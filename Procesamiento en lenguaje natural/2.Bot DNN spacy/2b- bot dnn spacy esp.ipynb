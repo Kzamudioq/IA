{
  "cells": [
    {
      "cell_type": "markdown",
      "metadata": {
        "id": "NV8wZ0MTKjv_"
      },
      "source": [
        "<img src=\"https://github.com/hernancontigiani/ceia_memorias_especializacion/raw/master/Figures/logoFIUBA.jpg\" width=\"500\" align=\"center\">\n",
        "\n",
        "\n",
        "# Procesamiento de lenguaje natural\n",
        "## Bot basado en reglas con DNN + Spacy"
      ]
    },
    {
      "cell_type": "markdown",
      "metadata": {
        "id": "Z_9z3H-yKrcK"
      },
      "source": [
        "#### Datos\n",
        "Este ejemplo se inspiró en otro Bot en inglés creado con NLTK, lo tienen como referencia para hacer lo mismo en inglés:\\\n",
        "[LINK](https://towardsdatascience.com/a-simple-chatbot-in-python-with-deep-learning-3e8669997758)"
      ]
    },
    {
      "cell_type": "markdown",
      "metadata": {
        "id": "oCVZakCzAjGN"
      },
      "source": [
        "### 1 - Instalar dependencias\n",
        "Para poder utilizar Spacy en castellano es necesario agregar la librería \"spacy-stanza\" para lematizar palabras en español."
      ]
    },
    {
      "cell_type": "code",
      "execution_count": null,
      "metadata": {
        "id": "Zd8NLa4gsSmT"
      },
      "outputs": [],
      "source": [
        "# La última versión de spacy-stanza (>1.0) es compatible solo con spacy >=3.0\n",
        "# Nota: spacy 3.0 incorpora al pepiline nlp transformers\n",
        "!pip install -U spacy==3.1 --quiet\n",
        "!pip install -U spacy-stanza==1.0.0 --quiet"
      ]
    },
    {
      "cell_type": "code",
      "execution_count": null,
      "metadata": {
        "id": "kzao7XO9NJAq"
      },
      "outputs": [],
      "source": [
        "import json\n",
        "import string\n",
        "import random \n",
        "import numpy as np\n",
        "\n",
        "import matplotlib.pyplot as plt\n",
        "import seaborn as sns\n",
        "\n",
        "import torch\n",
        "import torch.nn.functional as F\n",
        "import torch.nn as nn\n",
        "from torch.utils.data import Dataset, DataLoader\n",
        "\n",
        "import torchsummary"
      ]
    },
    {
      "cell_type": "code",
      "execution_count": null,
      "metadata": {
        "id": "7lWtUZP8ahFk"
      },
      "outputs": [],
      "source": [
        "import os\n",
        "import platform\n",
        "\n",
        "if os.access('torch_helpers.py', os.F_OK) is False:\n",
        "    if platform.system() == 'Windows':\n",
        "        !curl !wget https://raw.githubusercontent.com/FIUBA-Posgrado-Inteligencia-Artificial/procesamiento_lenguaje_natural/main/scripts/torch_helpers.py > torch_helpers.py\n",
        "    else:\n",
        "        !wget torch_helpers.py https://raw.githubusercontent.com/FIUBA-Posgrado-Inteligencia-Artificial/procesamiento_lenguaje_natural/main/scripts/torch_helpers.py"
      ]
    },
    {
      "cell_type": "code",
      "execution_count": null,
      "metadata": {
        "colab": {
          "base_uri": "https://localhost:8080/",
          "height": 483,
          "referenced_widgets": [
            "b54b76ccbd034781b4800c9d62ac6412",
            "6c8664fc21dd4d1198e1f0bffd9f55e0",
            "bcbc7093e41849ad8e8e7263c332e9bb",
            "3152a227005c443ba44e6a48a5e96e55",
            "f0ad809de83c48b4941abce6a72def37",
            "441f0adbd9d54a888bf1190d0614a3f9",
            "eb2e7325d481482d84417b00121ef9ff",
            "8fd51526ef0d479c975eb84fad10110b",
            "6dd554b44b934bfa9c35b20aa2af34a1",
            "10c999c5930b49ebb9fc0abe43e38a93",
            "fdf953e50a20496fa74ca523a6c8a81a"
          ]
        },
        "id": "Z_ExOb8uvjqK",
        "outputId": "29ef5827-503b-4b88-f7f3-d60c18786136"
      },
      "outputs": [
        {
          "output_type": "stream",
          "name": "stderr",
          "text": [
            "/usr/local/lib/python3.9/dist-packages/torch/cuda/__init__.py:546: UserWarning: Can't initialize NVML\n",
            "  warnings.warn(\"Can't initialize NVML\")\n"
          ]
        },
        {
          "output_type": "display_data",
          "data": {
            "text/plain": [
              "Downloading https://raw.githubusercontent.com/stanfordnlp/stanza-resources/main/resources_1.2.2.json:   0%|   …"
            ],
            "application/vnd.jupyter.widget-view+json": {
              "version_major": 2,
              "version_minor": 0,
              "model_id": "b54b76ccbd034781b4800c9d62ac6412"
            }
          },
          "metadata": {}
        },
        {
          "output_type": "stream",
          "name": "stderr",
          "text": [
            "INFO:stanza:Downloading default packages for language: es (Spanish)...\n",
            "INFO:stanza:File exists: /root/stanza_resources/es/default.zip.\n",
            "INFO:stanza:Finished downloading models and saved to /root/stanza_resources.\n",
            "INFO:stanza:Loading these models for language: es (Spanish):\n",
            "=======================\n",
            "| Processor | Package |\n",
            "-----------------------\n",
            "| tokenize  | ancora  |\n",
            "| mwt       | ancora  |\n",
            "| pos       | ancora  |\n",
            "| lemma     | ancora  |\n",
            "| depparse  | ancora  |\n",
            "| ner       | conll02 |\n",
            "=======================\n",
            "\n",
            "INFO:stanza:Use device: cpu\n",
            "INFO:stanza:Loading: tokenize\n",
            "INFO:stanza:Loading: mwt\n",
            "INFO:stanza:Loading: pos\n",
            "INFO:stanza:Loading: lemma\n",
            "INFO:stanza:Loading: depparse\n",
            "INFO:stanza:Loading: ner\n",
            "INFO:stanza:Done loading processors!\n"
          ]
        }
      ],
      "source": [
        "import stanza\n",
        "import spacy_stanza\n",
        "\n",
        "# Vamos a usar SpaCy-Stanza. Stanza es una librería de NLP de Stanford\n",
        "# SpaCy armó un wrapper para los pipelines y modelos de Stanza\n",
        "# https://stanfordnlp.github.io/stanza/\n",
        "\n",
        "# Descargar el diccionario en español y armar el pipeline de NLP con spacy\n",
        "stanza.download(\"es\")\n",
        "nlp = spacy_stanza.load_pipeline(\"es\")"
      ]
    },
    {
      "cell_type": "markdown",
      "metadata": {
        "id": "_wF10RjVMBdV"
      },
      "source": [
        "### 2 - Herramientas de preprocesamiento de datos\n",
        "Entre las tareas de procesamiento de texto en español se implementa:\n",
        "- Quitar acentos y caracteres especiales\n",
        "- Quitar números\n",
        "- Quitar símbolos de puntuación"
      ]
    },
    {
      "cell_type": "code",
      "execution_count": null,
      "metadata": {
        "id": "ZxoD2hEExmuX"
      },
      "outputs": [],
      "source": [
        "import re\n",
        "import unicodedata\n",
        "\n",
        "# El preprocesamento en castellano requiere más trabajo\n",
        "\n",
        "# Referencia de regex:\n",
        "# https://docs.python.org/3/library/re.html\n",
        "\n",
        "def preprocess_clean_text(text):    \n",
        "    # sacar tildes de las palabras\n",
        "    text = unicodedata.normalize('NFKD', text).encode('ascii', 'ignore').decode('utf-8', 'ignore')\n",
        "    # quitar caracteres especiales\n",
        "    pattern = r'[^a-zA-z0-9.,!?/:;\\\"\\'\\s]' \n",
        "    text = re.sub(pattern, '', text)\n",
        "    pattern = r'[^a-zA-z.,!?/:;\\\"\\'\\s]' \n",
        "    # quitar números\n",
        "    text = re.sub(pattern, '', text)\n",
        "    # quitar caracteres de puntiación\n",
        "    text = ''.join([c for c in text if c not in string.punctuation])\n",
        "    return text"
      ]
    },
    {
      "cell_type": "code",
      "execution_count": null,
      "metadata": {
        "colab": {
          "base_uri": "https://localhost:8080/",
          "height": 36
        },
        "id": "q-MiMZjh5fu2",
        "outputId": "0d882336-ac5d-467e-b878-c342b1f9ee32"
      },
      "outputs": [
        {
          "output_type": "execute_result",
          "data": {
            "text/plain": [
              "'personas ideas estas cosas y los peces y los muercielagos'"
            ],
            "application/vnd.google.colaboratory.intrinsic+json": {
              "type": "string"
            }
          },
          "metadata": {},
          "execution_count": 6
        }
      ],
      "source": [
        "text = \"personas Ideas! estás cosas y los peces y los muercielagos\"\n",
        "\n",
        "# Antes de preprocesar los datos se pasa a mínusculas todo el texto\n",
        "preprocess_clean_text(text.lower())"
      ]
    },
    {
      "cell_type": "code",
      "execution_count": null,
      "metadata": {
        "colab": {
          "base_uri": "https://localhost:8080/"
        },
        "id": "I9V-S8JbrtNn",
        "outputId": "6fc293f3-c8c9-4376-c7d7-a986dc5a0bc5"
      },
      "outputs": [
        {
          "output_type": "stream",
          "name": "stdout",
          "text": [
            "tokens: hola personas ideas estas cosas y los peces y los muercielagos\n",
            "Lematización de cada token:\n",
            "[hola, 'holar']\n",
            "[personas, 'persona']\n",
            "[ideas, 'idea']\n",
            "[estas, 'este']\n",
            "[cosas, 'cosa']\n",
            "[y, 'y']\n",
            "[los, 'el']\n",
            "[peces, 'pez']\n",
            "[y, 'y']\n",
            "[los, 'el']\n",
            "[muercielagos, 'muercielago']\n"
          ]
        }
      ],
      "source": [
        "# Ejemplo de como fuciona\n",
        "text = \"hola personas Ideas! estás cosas y los peces y los muercielagos\"\n",
        "\n",
        "# Antes de preprocesar los datos se pasa a mínusculas todo el texto\n",
        "tokes = nlp(preprocess_clean_text(text.lower()))\n",
        "print(\"tokens:\", tokes)\n",
        "print(\"Lematización de cada token:\")\n",
        "for token in tokes:\n",
        "    print([token, token.lemma_])"
      ]
    },
    {
      "cell_type": "markdown",
      "metadata": {
        "id": "ilRbn0KfMm2r"
      },
      "source": [
        "### 3 - Diccionario de entrada"
      ]
    },
    {
      "cell_type": "code",
      "execution_count": null,
      "metadata": {
        "id": "NgIGpjymNEH7"
      },
      "outputs": [],
      "source": [
        "# Dataset en formato JSON que representa las posibles preguntas (patterns)\n",
        "# y las posibles respuestas por categoría (tag)\n",
        "dataset = {\"intents\": [\n",
        "             {\"tag\": \"bienvenida\",\n",
        "              \"patterns\": [\"Hola\",  \"¿Hay alguien ahí?\",  \"Hola\" ,  \"Buen día\"], \n",
        "              \"responses\": [\" ¡Hola!\", \"Hola, gracias por visitarnos\",  \"Es bueno leerte de nuevo\"],\n",
        "             },\n",
        "             {\"tag\": \"bot\",\n",
        "              \"patterns\": [\"¿Cúal es tu nombre?\",\"¿Cómo te llamas?\", \"¿Quién eres tú?\", \"¿Con quien hablo?\", \"¿Con quien me comunico?\"],\n",
        "              \"responses\": [\" Soy Tatiana, tu asistente de aprendizaje virtual para IA\"]\n",
        "             },\n",
        "            {\"tag\": \"Estado\",\n",
        "              \"patterns\": [\"Cómo estás\" , \"¿Cómo estás?\" , \"¿Cómo te encuentras hoy?\", \"¿Cómo vas?\"],\n",
        "              \"responses\": [\"Feliz, ¿Que deseas aprender el día de hoy? \",  \"Bien, ¿cómo puedo ayudarte?\"]\n",
        "             },\n",
        "            {\"tag\": \"IA\",\n",
        "              \"patterns\": [\"¿Qué es la inteligencia artificial?\", \"¿Qué es IA?\", \"Incapaz de entender que es la IA\" , \"Incapaz de entender que es la inteliigencia artificial\", \"Inteligencia artificial\"],\n",
        "              \"responses\": [\"Puedes aprender a traves del siguiete link <https://github.com/FIUBA-Posgrado-Inteligencia-Artificial/intro_ia>\"]\n",
        "             },\n",
        "            {\"tag\": \"PLN\",\n",
        "              \"patterns\": [\"¿Qué es el procesamiento de lenguaje natural?\", \"¿Qué es PLN?\", \"Incapaz de entender que es el procesamiento natural de lenguaje\", \"Explícame cómo funciona el procesamiento natural de lenguaje\", \"Redes neuronales artificiales\"],\n",
        "              \"responses\": [\"Puedes aprender a traves del siguiete link <https://github.com/FIUBA-Posgrado-Inteligencia-Artificial/procesamiento_lenguaje_natural>\"]\n",
        "             },\n",
        "            {\"tag\": \"ML\",\n",
        "              \"patterns\": [\"¿Qué es machine learning?\", \"¿Qué es ML?\", \"Incapaz de entender que es la machine learning\" ,\"Explícame cómo funciona machine learning\", \"¿Qué es aprendizaje de refuerzo? \", \"¿Qué es aprendizaje supervisado?\", \"¿Qué es aprendizaje no supervisado?\"],\n",
        "              \"responses\": [\"Puedes aprender a traves del siguiete link <https://github.com/FIUBA-Posgrado-Inteligencia-Artificial/aprendizaje_maquina_II>\"]\n",
        "             },\n",
        "            {\"tag\": \"VC\",\n",
        "              \"patterns\": [\"¿Qué es visión por computadora?\",\"¿Qué es visión artificial?\", \"Incapaz de entender que es la visión por computadora\" , \"Explícame cómo funciona visión por computadora?\", \"¿Qué es detección de objetos? \", \"¿Qué es segmetación de objeetos?\"],\n",
        "              \"responses\": [\"Puedes aprender a traves del siguiete link <https://github.com/FIUBA-Posgrado-Inteligencia-Artificial/vision_computadora_II>\"]\n",
        "             },\n",
        "            {\"tag\": \"DL\",\n",
        "              \"patterns\": [\"¿Qué es DL?\", \"¿Qué es Deep learning?\", \"Incapaz de entender que es DL\", \"Incapaz de entender que es Deep learning\", \"Incapaz de entender que es función de activaciión\"],\n",
        "              \"responses\": [\"Puedes aprender a traves del siguiete link <https://github.com/FIUBA-Posgrado-Inteligencia-Artificial/aprendizaje_profundo>\"]\n",
        "             },\n",
        "            {\"tag\": \"agradecimientos\",\n",
        "              \"patterns\": [ \"Muchas gracias\", \"Gracias\", \"Fuiste de gran ayuda\", \"Me ayudaste\"],\n",
        "              \"responses\": [\"Por nada!, cualquier otra consulta sobre la IA podes escribirme\"]\n",
        "             },\n",
        "             {\"tag\": \"despedida\",\n",
        "              \"patterns\": [ \"Nos vemos más tarde\", \"Hasta luego\", \"Adiós\", \"Me voy\", \"Que tengas un buen día\", \"Chao\"],\n",
        "              \"responses\": [\" Espero haber sido de ayuda, A+ \", \"Chao\" ]\n",
        "             }\n",
        "]}"
      ]
    },
    {
      "cell_type": "markdown",
      "metadata": {
        "id": "19PEDmIDfLRu"
      },
      "source": [
        "### 4 - Preprocesamiento y armado del dataset"
      ]
    },
    {
      "cell_type": "code",
      "execution_count": null,
      "metadata": {
        "id": "b3HP8abHNRk3"
      },
      "outputs": [],
      "source": [
        "# Datos que necesitaremos, las palabras o vocabilario\n",
        "words = []\n",
        "classes = []\n",
        "doc_X = []\n",
        "doc_y = []\n",
        "\n",
        "# Por cada intención (intents) debemos tomar los patrones que la caracterízan\n",
        "# a esa intención y transformarla a tokens para lamacenar en doc_X\n",
        "\n",
        "# El tag de cada intención se almacena como doc_Y (la clase a predecir)\n",
        "\n",
        "for intent in dataset[\"intents\"]:\n",
        "    for pattern in intent[\"patterns\"]:\n",
        "        # trasformar el patron a tokens\n",
        "        tokens = nlp(preprocess_clean_text(pattern.lower()))\n",
        "        # lematizar los tokens\n",
        "        for token in tokens:            \n",
        "            words.append(token.lemma_)\n",
        "        \n",
        "        doc_X.append(pattern)\n",
        "        doc_y.append(intent[\"tag\"])\n",
        "    \n",
        "    # Agregar el tag a las clases\n",
        "    if intent[\"tag\"] not in classes:\n",
        "        classes.append(intent[\"tag\"])\n",
        "\n",
        "# Elminar duplicados con \"set\" y ordenar el vocubulario y las clases por orden alfabético\n",
        "words = sorted(set(words))\n",
        "classes = sorted(set(classes))"
      ]
    },
    {
      "cell_type": "code",
      "execution_count": null,
      "metadata": {
        "colab": {
          "base_uri": "https://localhost:8080/"
        },
        "id": "Acy-gcugNbMH",
        "outputId": "a7e58871-456e-4c32-f43b-b4a5b866021b"
      },
      "outputs": [
        {
          "output_type": "stream",
          "name": "stdout",
          "text": [
            "words: ['activaciion', 'adios', 'ahi', 'alguien', 'aprendizaje', 'artificial', 'ayuda', 'ayudar', 'buen', 'chao', 'como', 'computadora', 'comunicar', 'con', 'cual', 'de', 'deep', 'deteccion', 'dia', 'dl', 'el', 'encontrar', 'entender', 'este', 'explicamer', 'funcion', 'funcionar', 'gracias', 'gran', 'haber', 'hablar', 'hasta', 'holar', 'hoy', 'ia', 'incapaz', 'inteligencia', 'inteliigencia', 'ir', 'learning', 'lenguaje', 'llama', 'luego', 'machine', 'mas', 'ml', 'mucho', 'natural', 'neuronal', 'no', 'nombre', 'objeeto', 'objeto', 'pln', 'por', 'procesamiento', 'que', 'quien', 'red', 'refuerzo', 'segmetacion', 'ser', 'supervisado', 'tarde', 'tener', 'tu', 'tú', 'uno', 'ver', 'vision', 'yo']\n",
            "classes: ['DL', 'Estado', 'IA', 'ML', 'PLN', 'VC', 'agradecimientos', 'bienvenida', 'bot', 'despedida']\n",
            "doc_X: ['Hola', '¿Hay alguien ahí?', 'Hola', 'Buen día', '¿Cúal es tu nombre?', '¿Cómo te llamas?', '¿Quién eres tú?', '¿Con quien hablo?', '¿Con quien me comunico?', 'Cómo estás', '¿Cómo estás?', '¿Cómo te encuentras hoy?', '¿Cómo vas?', '¿Qué es la inteligencia artificial?', '¿Qué es IA?', 'Incapaz de entender que es la IA', 'Incapaz de entender que es la inteliigencia artificial', 'Inteligencia artificial', '¿Qué es el procesamiento de lenguaje natural?', '¿Qué es PLN?', 'Incapaz de entender que es el procesamiento natural de lenguaje', 'Explícame cómo funciona el procesamiento natural de lenguaje', 'Redes neuronales artificiales', '¿Qué es machine learning?', '¿Qué es ML?', 'Incapaz de entender que es la machine learning', 'Explícame cómo funciona machine learning', '¿Qué es aprendizaje de refuerzo? ', '¿Qué es aprendizaje supervisado?', '¿Qué es aprendizaje no supervisado?', '¿Qué es visión por computadora?', '¿Qué es visión artificial?', 'Incapaz de entender que es la visión por computadora', 'Explícame cómo funciona visión por computadora?', '¿Qué es detección de objetos? ', '¿Qué es segmetación de objeetos?', '¿Qué es DL?', '¿Qué es Deep learning?', 'Incapaz de entender que es DL', 'Incapaz de entender que es Deep learning', 'Incapaz de entender que es función de activaciión', 'Muchas gracias', 'Gracias', 'Fuiste de gran ayuda', 'Me ayudaste', 'Nos vemos más tarde', 'Hasta luego', 'Adiós', 'Me voy', 'Que tengas un buen día', 'Chao']\n",
            "doc_y: ['bienvenida', 'bienvenida', 'bienvenida', 'bienvenida', 'bot', 'bot', 'bot', 'bot', 'bot', 'Estado', 'Estado', 'Estado', 'Estado', 'IA', 'IA', 'IA', 'IA', 'IA', 'PLN', 'PLN', 'PLN', 'PLN', 'PLN', 'ML', 'ML', 'ML', 'ML', 'ML', 'ML', 'ML', 'VC', 'VC', 'VC', 'VC', 'VC', 'VC', 'DL', 'DL', 'DL', 'DL', 'DL', 'agradecimientos', 'agradecimientos', 'agradecimientos', 'agradecimientos', 'despedida', 'despedida', 'despedida', 'despedida', 'despedida', 'despedida']\n"
          ]
        }
      ],
      "source": [
        "print(\"words:\", words)\n",
        "print(\"classes:\", classes)\n",
        "print(\"doc_X:\", doc_X)\n",
        "print(\"doc_y:\", doc_y)"
      ]
    },
    {
      "cell_type": "code",
      "execution_count": null,
      "metadata": {
        "colab": {
          "base_uri": "https://localhost:8080/"
        },
        "id": "YI0L2U7IQcvy",
        "outputId": "321e284d-f37b-4e4a-ad69-b876c4451a52"
      },
      "outputs": [
        {
          "output_type": "stream",
          "name": "stdout",
          "text": [
            "Vocabulario: 71\n"
          ]
        }
      ],
      "source": [
        "# Tamaño del vocabulario\n",
        "print(\"Vocabulario:\", len(words))"
      ]
    },
    {
      "cell_type": "code",
      "execution_count": null,
      "metadata": {
        "colab": {
          "base_uri": "https://localhost:8080/"
        },
        "id": "hqBeGKRk_q4r",
        "outputId": "4b3079ba-c874-45ad-ac6c-206f8ba021b9"
      },
      "outputs": [
        {
          "output_type": "stream",
          "name": "stdout",
          "text": [
            "Tags: 10\n"
          ]
        }
      ],
      "source": [
        "# Cantidad de tags\n",
        "print(\"Tags:\", len(classes))"
      ]
    },
    {
      "cell_type": "code",
      "execution_count": null,
      "metadata": {
        "colab": {
          "base_uri": "https://localhost:8080/"
        },
        "id": "vpbJ0guPN2Uq",
        "outputId": "a230373b-8973-4b89-9191-252066c1c7df"
      },
      "outputs": [
        {
          "output_type": "stream",
          "name": "stdout",
          "text": [
            "X: [0, 0, 0, 0, 0, 0, 0, 0, 0, 0, 0, 0, 0, 0, 0, 0, 0, 0, 0, 0, 0, 0, 0, 0, 0, 0, 0, 0, 0, 0, 0, 0, 1, 0, 0, 0, 0, 0, 0, 0, 0, 0, 0, 0, 0, 0, 0, 0, 0, 0, 0, 0, 0, 0, 0, 0, 0, 0, 0, 0, 0, 0, 0, 0, 0, 0, 0, 0, 0, 0, 0] y: [0, 0, 0, 0, 0, 0, 0, 1, 0, 0]\n",
            "X: [0, 0, 1, 1, 0, 0, 0, 0, 0, 0, 0, 0, 0, 0, 0, 0, 0, 0, 0, 0, 0, 0, 0, 0, 0, 0, 0, 0, 0, 1, 0, 0, 0, 0, 0, 0, 0, 0, 0, 0, 0, 0, 0, 0, 0, 0, 0, 0, 0, 0, 0, 0, 0, 0, 0, 0, 0, 0, 0, 0, 0, 0, 0, 0, 0, 0, 0, 0, 0, 0, 0] y: [0, 0, 0, 0, 0, 0, 0, 1, 0, 0]\n",
            "X: [0, 0, 0, 0, 0, 0, 0, 0, 0, 0, 0, 0, 0, 0, 0, 0, 0, 0, 0, 0, 0, 0, 0, 0, 0, 0, 0, 0, 0, 0, 0, 0, 1, 0, 0, 0, 0, 0, 0, 0, 0, 0, 0, 0, 0, 0, 0, 0, 0, 0, 0, 0, 0, 0, 0, 0, 0, 0, 0, 0, 0, 0, 0, 0, 0, 0, 0, 0, 0, 0, 0] y: [0, 0, 0, 0, 0, 0, 0, 1, 0, 0]\n",
            "X: [0, 0, 0, 0, 0, 0, 0, 0, 1, 0, 0, 0, 0, 0, 0, 0, 0, 0, 1, 0, 0, 0, 0, 0, 0, 0, 0, 0, 0, 0, 0, 0, 0, 0, 0, 0, 0, 0, 0, 0, 0, 0, 0, 0, 0, 0, 0, 0, 0, 0, 0, 0, 0, 0, 0, 0, 0, 0, 0, 0, 0, 0, 0, 0, 0, 0, 0, 0, 0, 0, 0] y: [0, 0, 0, 0, 0, 0, 0, 1, 0, 0]\n",
            "X: [0, 0, 0, 0, 0, 0, 0, 0, 0, 0, 0, 0, 0, 0, 1, 0, 0, 0, 0, 0, 0, 0, 0, 0, 0, 0, 0, 0, 0, 0, 0, 0, 0, 0, 0, 0, 0, 0, 0, 0, 0, 0, 0, 0, 0, 0, 0, 0, 0, 0, 1, 0, 0, 0, 0, 0, 0, 0, 0, 0, 0, 1, 0, 0, 0, 1, 0, 0, 0, 0, 0] y: [0, 0, 0, 0, 0, 0, 0, 0, 1, 0]\n",
            "X: [0, 0, 0, 0, 0, 0, 0, 0, 0, 0, 1, 0, 0, 0, 0, 0, 0, 0, 0, 0, 0, 0, 0, 0, 0, 0, 0, 0, 0, 0, 0, 0, 0, 0, 0, 0, 0, 0, 0, 0, 0, 1, 0, 0, 0, 0, 0, 0, 0, 0, 0, 0, 0, 0, 0, 0, 0, 0, 0, 0, 0, 0, 0, 0, 0, 0, 1, 0, 0, 0, 0] y: [0, 0, 0, 0, 0, 0, 0, 0, 1, 0]\n",
            "X: [0, 0, 0, 0, 0, 0, 0, 0, 0, 0, 0, 0, 0, 0, 0, 0, 0, 0, 0, 0, 0, 0, 0, 0, 0, 0, 0, 0, 0, 0, 0, 0, 0, 0, 0, 0, 0, 0, 0, 0, 0, 0, 0, 0, 0, 0, 0, 0, 0, 0, 0, 0, 0, 0, 0, 0, 0, 1, 0, 0, 0, 1, 0, 0, 0, 1, 0, 0, 0, 0, 0] y: [0, 0, 0, 0, 0, 0, 0, 0, 1, 0]\n",
            "X: [0, 0, 0, 0, 0, 0, 0, 0, 0, 0, 0, 0, 0, 1, 0, 0, 0, 0, 0, 0, 0, 0, 0, 0, 0, 0, 0, 0, 0, 0, 1, 0, 0, 0, 0, 0, 0, 0, 0, 0, 0, 0, 0, 0, 0, 0, 0, 0, 0, 0, 0, 0, 0, 0, 0, 0, 0, 1, 0, 0, 0, 0, 0, 0, 0, 0, 0, 0, 0, 0, 0] y: [0, 0, 0, 0, 0, 0, 0, 0, 1, 0]\n",
            "X: [0, 0, 0, 0, 0, 0, 0, 0, 0, 0, 0, 0, 1, 1, 0, 0, 0, 0, 0, 0, 0, 0, 0, 0, 0, 0, 0, 0, 0, 0, 0, 0, 0, 0, 0, 0, 0, 0, 0, 0, 0, 0, 0, 0, 0, 0, 0, 0, 0, 0, 0, 0, 0, 0, 0, 0, 0, 1, 0, 0, 0, 0, 0, 0, 0, 0, 0, 0, 0, 0, 1] y: [0, 0, 0, 0, 0, 0, 0, 0, 1, 0]\n",
            "X: [0, 0, 0, 0, 0, 0, 0, 0, 0, 0, 1, 0, 0, 0, 0, 0, 0, 0, 0, 0, 0, 0, 0, 1, 0, 0, 0, 0, 0, 0, 0, 0, 0, 0, 0, 0, 0, 0, 0, 0, 0, 0, 0, 0, 0, 0, 0, 0, 0, 0, 0, 0, 0, 0, 0, 0, 0, 0, 0, 0, 0, 0, 0, 0, 0, 0, 0, 0, 0, 0, 0] y: [0, 1, 0, 0, 0, 0, 0, 0, 0, 0]\n",
            "X: [0, 0, 0, 0, 0, 0, 0, 0, 0, 0, 1, 0, 0, 0, 0, 0, 0, 0, 0, 0, 0, 0, 0, 1, 0, 0, 0, 0, 0, 0, 0, 0, 0, 0, 0, 0, 0, 0, 0, 0, 0, 0, 0, 0, 0, 0, 0, 0, 0, 0, 0, 0, 0, 0, 0, 0, 0, 0, 0, 0, 0, 0, 0, 0, 0, 0, 0, 0, 0, 0, 0] y: [0, 1, 0, 0, 0, 0, 0, 0, 0, 0]\n",
            "X: [0, 0, 0, 0, 0, 0, 0, 0, 0, 0, 1, 0, 0, 0, 0, 0, 0, 0, 0, 0, 0, 1, 0, 0, 0, 0, 0, 0, 0, 0, 0, 0, 0, 1, 0, 0, 0, 0, 0, 0, 0, 0, 0, 0, 0, 0, 0, 0, 0, 0, 0, 0, 0, 0, 0, 0, 0, 0, 0, 0, 0, 0, 0, 0, 0, 0, 1, 0, 0, 0, 0] y: [0, 1, 0, 0, 0, 0, 0, 0, 0, 0]\n",
            "X: [0, 0, 0, 0, 0, 0, 0, 0, 0, 0, 1, 0, 0, 0, 0, 0, 0, 0, 0, 0, 0, 0, 0, 0, 0, 0, 0, 0, 0, 0, 0, 0, 0, 0, 0, 0, 0, 0, 1, 0, 0, 0, 0, 0, 0, 0, 0, 0, 0, 0, 0, 0, 0, 0, 0, 0, 0, 0, 0, 0, 0, 0, 0, 0, 0, 0, 0, 0, 0, 0, 0] y: [0, 1, 0, 0, 0, 0, 0, 0, 0, 0]\n",
            "X: [0, 0, 0, 0, 0, 1, 0, 0, 0, 0, 0, 0, 0, 0, 0, 0, 0, 0, 0, 0, 1, 0, 0, 0, 0, 0, 0, 0, 0, 0, 0, 0, 0, 0, 0, 0, 1, 0, 0, 0, 0, 0, 0, 0, 0, 0, 0, 0, 0, 0, 0, 0, 0, 0, 0, 0, 1, 0, 0, 0, 0, 1, 0, 0, 0, 0, 0, 0, 0, 0, 0] y: [0, 0, 1, 0, 0, 0, 0, 0, 0, 0]\n",
            "X: [0, 0, 0, 0, 0, 0, 0, 0, 0, 0, 0, 0, 0, 0, 0, 0, 0, 0, 0, 0, 0, 0, 0, 0, 0, 0, 0, 0, 0, 0, 0, 0, 0, 0, 1, 0, 0, 0, 0, 0, 0, 0, 0, 0, 0, 0, 0, 0, 0, 0, 0, 0, 0, 0, 0, 0, 1, 0, 0, 0, 0, 1, 0, 0, 0, 0, 0, 0, 0, 0, 0] y: [0, 0, 1, 0, 0, 0, 0, 0, 0, 0]\n",
            "X: [0, 0, 0, 0, 0, 0, 0, 0, 0, 0, 0, 0, 0, 0, 0, 1, 0, 0, 0, 0, 1, 0, 1, 0, 0, 0, 0, 0, 0, 0, 0, 0, 0, 0, 1, 1, 0, 0, 0, 0, 0, 0, 0, 0, 0, 0, 0, 0, 0, 0, 0, 0, 0, 0, 0, 0, 1, 0, 0, 0, 0, 1, 0, 0, 0, 0, 0, 0, 0, 0, 0] y: [0, 0, 1, 0, 0, 0, 0, 0, 0, 0]\n",
            "X: [0, 0, 0, 0, 0, 1, 0, 0, 0, 0, 0, 0, 0, 0, 0, 1, 0, 0, 0, 0, 1, 0, 1, 0, 0, 0, 0, 0, 0, 0, 0, 0, 0, 0, 0, 1, 0, 1, 0, 0, 0, 0, 0, 0, 0, 0, 0, 0, 0, 0, 0, 0, 0, 0, 0, 0, 1, 0, 0, 0, 0, 1, 0, 0, 0, 0, 0, 0, 0, 0, 0] y: [0, 0, 1, 0, 0, 0, 0, 0, 0, 0]\n",
            "X: [0, 0, 0, 0, 0, 1, 0, 0, 0, 0, 0, 0, 0, 0, 0, 0, 0, 0, 0, 0, 0, 0, 0, 0, 0, 0, 0, 0, 0, 0, 0, 0, 0, 0, 0, 0, 1, 0, 0, 0, 0, 0, 0, 0, 0, 0, 0, 0, 0, 0, 0, 0, 0, 0, 0, 0, 0, 0, 0, 0, 0, 0, 0, 0, 0, 0, 0, 0, 0, 0, 0] y: [0, 0, 1, 0, 0, 0, 0, 0, 0, 0]\n",
            "X: [0, 0, 0, 0, 0, 0, 0, 0, 0, 0, 0, 0, 0, 0, 0, 1, 0, 0, 0, 0, 1, 0, 0, 0, 0, 0, 0, 0, 0, 0, 0, 0, 0, 0, 0, 0, 0, 0, 0, 0, 1, 0, 0, 0, 0, 0, 0, 1, 0, 0, 0, 0, 0, 0, 0, 1, 1, 0, 0, 0, 0, 1, 0, 0, 0, 0, 0, 0, 0, 0, 0] y: [0, 0, 0, 0, 1, 0, 0, 0, 0, 0]\n",
            "X: [0, 0, 0, 0, 0, 0, 0, 0, 0, 0, 0, 0, 0, 0, 0, 0, 0, 0, 0, 0, 0, 0, 0, 0, 0, 0, 0, 0, 0, 0, 0, 0, 0, 0, 0, 0, 0, 0, 0, 0, 0, 0, 0, 0, 0, 0, 0, 0, 0, 0, 0, 0, 0, 1, 0, 0, 1, 0, 0, 0, 0, 1, 0, 0, 0, 0, 0, 0, 0, 0, 0] y: [0, 0, 0, 0, 1, 0, 0, 0, 0, 0]\n",
            "X: [0, 0, 0, 0, 0, 0, 0, 0, 0, 0, 0, 0, 0, 0, 0, 1, 0, 0, 0, 0, 1, 0, 1, 0, 0, 0, 0, 0, 0, 0, 0, 0, 0, 0, 0, 1, 0, 0, 0, 0, 1, 0, 0, 0, 0, 0, 0, 1, 0, 0, 0, 0, 0, 0, 0, 1, 1, 0, 0, 0, 0, 1, 0, 0, 0, 0, 0, 0, 0, 0, 0] y: [0, 0, 0, 0, 1, 0, 0, 0, 0, 0]\n",
            "X: [0, 0, 0, 0, 0, 0, 0, 0, 0, 0, 1, 0, 0, 0, 0, 1, 0, 0, 0, 0, 1, 0, 0, 0, 1, 0, 1, 0, 0, 0, 0, 0, 0, 0, 0, 0, 0, 0, 0, 0, 1, 0, 0, 0, 0, 0, 0, 1, 0, 0, 0, 0, 0, 0, 0, 1, 0, 0, 0, 0, 0, 0, 0, 0, 0, 0, 0, 0, 0, 0, 0] y: [0, 0, 0, 0, 1, 0, 0, 0, 0, 0]\n",
            "X: [0, 0, 0, 0, 0, 1, 0, 0, 0, 0, 0, 0, 0, 0, 0, 0, 0, 0, 0, 0, 0, 0, 0, 0, 0, 0, 0, 0, 0, 0, 0, 0, 0, 0, 0, 0, 0, 0, 0, 0, 0, 0, 0, 0, 0, 0, 0, 0, 1, 0, 0, 0, 0, 0, 0, 0, 0, 0, 1, 0, 0, 0, 0, 0, 0, 0, 0, 0, 0, 0, 0] y: [0, 0, 0, 0, 1, 0, 0, 0, 0, 0]\n",
            "X: [0, 0, 0, 0, 0, 0, 0, 0, 0, 0, 0, 0, 0, 0, 0, 0, 0, 0, 0, 0, 0, 0, 0, 0, 0, 0, 0, 0, 0, 0, 0, 0, 0, 0, 0, 0, 0, 0, 0, 1, 0, 0, 0, 1, 0, 0, 0, 0, 0, 0, 0, 0, 0, 0, 0, 0, 1, 0, 0, 0, 0, 1, 0, 0, 0, 0, 0, 0, 0, 0, 0] y: [0, 0, 0, 1, 0, 0, 0, 0, 0, 0]\n",
            "X: [0, 0, 0, 0, 0, 0, 0, 0, 0, 0, 0, 0, 0, 0, 0, 0, 0, 0, 0, 0, 0, 0, 0, 0, 0, 0, 0, 0, 0, 0, 0, 0, 0, 0, 0, 0, 0, 0, 0, 0, 0, 0, 0, 0, 0, 1, 0, 0, 0, 0, 0, 0, 0, 0, 0, 0, 1, 0, 0, 0, 0, 1, 0, 0, 0, 0, 0, 0, 0, 0, 0] y: [0, 0, 0, 1, 0, 0, 0, 0, 0, 0]\n",
            "X: [0, 0, 0, 0, 0, 0, 0, 0, 0, 0, 0, 0, 0, 0, 0, 1, 0, 0, 0, 0, 1, 0, 1, 0, 0, 0, 0, 0, 0, 0, 0, 0, 0, 0, 0, 1, 0, 0, 0, 1, 0, 0, 0, 1, 0, 0, 0, 0, 0, 0, 0, 0, 0, 0, 0, 0, 1, 0, 0, 0, 0, 1, 0, 0, 0, 0, 0, 0, 0, 0, 0] y: [0, 0, 0, 1, 0, 0, 0, 0, 0, 0]\n",
            "X: [0, 0, 0, 0, 0, 0, 0, 0, 0, 0, 1, 0, 0, 0, 0, 0, 0, 0, 0, 0, 0, 0, 0, 0, 1, 0, 1, 0, 0, 0, 0, 0, 0, 0, 0, 0, 0, 0, 0, 1, 0, 0, 0, 1, 0, 0, 0, 0, 0, 0, 0, 0, 0, 0, 0, 0, 0, 0, 0, 0, 0, 0, 0, 0, 0, 0, 0, 0, 0, 0, 0] y: [0, 0, 0, 1, 0, 0, 0, 0, 0, 0]\n",
            "X: [0, 0, 0, 0, 1, 0, 0, 0, 0, 0, 0, 0, 0, 0, 0, 1, 0, 0, 0, 0, 0, 0, 0, 0, 0, 0, 0, 0, 0, 0, 0, 0, 0, 0, 0, 0, 0, 0, 0, 0, 0, 0, 0, 0, 0, 0, 0, 0, 0, 0, 0, 0, 0, 0, 0, 0, 1, 0, 0, 1, 0, 1, 0, 0, 0, 0, 0, 0, 0, 0, 0] y: [0, 0, 0, 1, 0, 0, 0, 0, 0, 0]\n",
            "X: [0, 0, 0, 0, 1, 0, 0, 0, 0, 0, 0, 0, 0, 0, 0, 0, 0, 0, 0, 0, 0, 0, 0, 0, 0, 0, 0, 0, 0, 0, 0, 0, 0, 0, 0, 0, 0, 0, 0, 0, 0, 0, 0, 0, 0, 0, 0, 0, 0, 0, 0, 0, 0, 0, 0, 0, 1, 0, 0, 0, 0, 1, 1, 0, 0, 0, 0, 0, 0, 0, 0] y: [0, 0, 0, 1, 0, 0, 0, 0, 0, 0]\n",
            "X: [0, 0, 0, 0, 1, 0, 0, 0, 0, 0, 0, 0, 0, 0, 0, 0, 0, 0, 0, 0, 0, 0, 0, 0, 0, 0, 0, 0, 0, 0, 0, 0, 0, 0, 0, 0, 0, 0, 0, 0, 0, 0, 0, 0, 0, 0, 0, 0, 0, 1, 0, 0, 0, 0, 0, 0, 1, 0, 0, 0, 0, 1, 1, 0, 0, 0, 0, 0, 0, 0, 0] y: [0, 0, 0, 1, 0, 0, 0, 0, 0, 0]\n",
            "X: [0, 0, 0, 0, 0, 0, 0, 0, 0, 0, 0, 1, 0, 0, 0, 0, 0, 0, 0, 0, 0, 0, 0, 0, 0, 0, 0, 0, 0, 0, 0, 0, 0, 0, 0, 0, 0, 0, 0, 0, 0, 0, 0, 0, 0, 0, 0, 0, 0, 0, 0, 0, 0, 0, 1, 0, 1, 0, 0, 0, 0, 1, 0, 0, 0, 0, 0, 0, 0, 1, 0] y: [0, 0, 0, 0, 0, 1, 0, 0, 0, 0]\n",
            "X: [0, 0, 0, 0, 0, 1, 0, 0, 0, 0, 0, 0, 0, 0, 0, 0, 0, 0, 0, 0, 0, 0, 0, 0, 0, 0, 0, 0, 0, 0, 0, 0, 0, 0, 0, 0, 0, 0, 0, 0, 0, 0, 0, 0, 0, 0, 0, 0, 0, 0, 0, 0, 0, 0, 0, 0, 1, 0, 0, 0, 0, 1, 0, 0, 0, 0, 0, 0, 0, 1, 0] y: [0, 0, 0, 0, 0, 1, 0, 0, 0, 0]\n",
            "X: [0, 0, 0, 0, 0, 0, 0, 0, 0, 0, 0, 1, 0, 0, 0, 1, 0, 0, 0, 0, 1, 0, 1, 0, 0, 0, 0, 0, 0, 0, 0, 0, 0, 0, 0, 1, 0, 0, 0, 0, 0, 0, 0, 0, 0, 0, 0, 0, 0, 0, 0, 0, 0, 0, 1, 0, 1, 0, 0, 0, 0, 1, 0, 0, 0, 0, 0, 0, 0, 1, 0] y: [0, 0, 0, 0, 0, 1, 0, 0, 0, 0]\n",
            "X: [0, 0, 0, 0, 0, 0, 0, 0, 0, 0, 1, 1, 0, 0, 0, 0, 0, 0, 0, 0, 0, 0, 0, 0, 1, 0, 1, 0, 0, 0, 0, 0, 0, 0, 0, 0, 0, 0, 0, 0, 0, 0, 0, 0, 0, 0, 0, 0, 0, 0, 0, 0, 0, 0, 1, 0, 0, 0, 0, 0, 0, 0, 0, 0, 0, 0, 0, 0, 0, 1, 0] y: [0, 0, 0, 0, 0, 1, 0, 0, 0, 0]\n",
            "X: [0, 0, 0, 0, 0, 0, 0, 0, 0, 0, 0, 0, 0, 0, 0, 1, 0, 1, 0, 0, 0, 0, 0, 0, 0, 0, 0, 0, 0, 0, 0, 0, 0, 0, 0, 0, 0, 0, 0, 0, 0, 0, 0, 0, 0, 0, 0, 0, 0, 0, 0, 0, 1, 0, 0, 0, 1, 0, 0, 0, 0, 1, 0, 0, 0, 0, 0, 0, 0, 0, 0] y: [0, 0, 0, 0, 0, 1, 0, 0, 0, 0]\n",
            "X: [0, 0, 0, 0, 0, 0, 0, 0, 0, 0, 0, 0, 0, 0, 0, 1, 0, 0, 0, 0, 0, 0, 0, 0, 0, 0, 0, 0, 0, 0, 0, 0, 0, 0, 0, 0, 0, 0, 0, 0, 0, 0, 0, 0, 0, 0, 0, 0, 0, 0, 0, 1, 0, 0, 0, 0, 1, 0, 0, 0, 1, 1, 0, 0, 0, 0, 0, 0, 0, 0, 0] y: [0, 0, 0, 0, 0, 1, 0, 0, 0, 0]\n",
            "X: [0, 0, 0, 0, 0, 0, 0, 0, 0, 0, 0, 0, 0, 0, 0, 0, 0, 0, 0, 1, 0, 0, 0, 0, 0, 0, 0, 0, 0, 0, 0, 0, 0, 0, 0, 0, 0, 0, 0, 0, 0, 0, 0, 0, 0, 0, 0, 0, 0, 0, 0, 0, 0, 0, 0, 0, 1, 0, 0, 0, 0, 1, 0, 0, 0, 0, 0, 0, 0, 0, 0] y: [1, 0, 0, 0, 0, 0, 0, 0, 0, 0]\n",
            "X: [0, 0, 0, 0, 0, 0, 0, 0, 0, 0, 0, 0, 0, 0, 0, 0, 1, 0, 0, 0, 0, 0, 0, 0, 0, 0, 0, 0, 0, 0, 0, 0, 0, 0, 0, 0, 0, 0, 0, 1, 0, 0, 0, 0, 0, 0, 0, 0, 0, 0, 0, 0, 0, 0, 0, 0, 1, 0, 0, 0, 0, 1, 0, 0, 0, 0, 0, 0, 0, 0, 0] y: [1, 0, 0, 0, 0, 0, 0, 0, 0, 0]\n",
            "X: [0, 0, 0, 0, 0, 0, 0, 0, 0, 0, 0, 0, 0, 0, 0, 1, 0, 0, 0, 1, 0, 0, 1, 0, 0, 0, 0, 0, 0, 0, 0, 0, 0, 0, 0, 1, 0, 0, 0, 0, 0, 0, 0, 0, 0, 0, 0, 0, 0, 0, 0, 0, 0, 0, 0, 0, 1, 0, 0, 0, 0, 1, 0, 0, 0, 0, 0, 0, 0, 0, 0] y: [1, 0, 0, 0, 0, 0, 0, 0, 0, 0]\n",
            "X: [0, 0, 0, 0, 0, 0, 0, 0, 0, 0, 0, 0, 0, 0, 0, 1, 1, 0, 0, 0, 0, 0, 1, 0, 0, 0, 0, 0, 0, 0, 0, 0, 0, 0, 0, 1, 0, 0, 0, 1, 0, 0, 0, 0, 0, 0, 0, 0, 0, 0, 0, 0, 0, 0, 0, 0, 1, 0, 0, 0, 0, 1, 0, 0, 0, 0, 0, 0, 0, 0, 0] y: [1, 0, 0, 0, 0, 0, 0, 0, 0, 0]\n",
            "X: [1, 0, 0, 0, 0, 0, 0, 0, 0, 0, 0, 0, 0, 0, 0, 1, 0, 0, 0, 0, 0, 0, 1, 0, 0, 1, 0, 0, 0, 0, 0, 0, 0, 0, 0, 1, 0, 0, 0, 0, 0, 0, 0, 0, 0, 0, 0, 0, 0, 0, 0, 0, 0, 0, 0, 0, 1, 0, 0, 0, 0, 1, 0, 0, 0, 0, 0, 0, 0, 0, 0] y: [1, 0, 0, 0, 0, 0, 0, 0, 0, 0]\n",
            "X: [0, 0, 0, 0, 0, 0, 0, 0, 0, 0, 0, 0, 0, 0, 0, 0, 0, 0, 0, 0, 0, 0, 0, 0, 0, 0, 0, 1, 0, 0, 0, 0, 0, 0, 0, 0, 0, 0, 0, 0, 0, 0, 0, 0, 0, 0, 1, 0, 0, 0, 0, 0, 0, 0, 0, 0, 0, 0, 0, 0, 0, 0, 0, 0, 0, 0, 0, 0, 0, 0, 0] y: [0, 0, 0, 0, 0, 0, 1, 0, 0, 0]\n",
            "X: [0, 0, 0, 0, 0, 0, 0, 0, 0, 0, 0, 0, 0, 0, 0, 0, 0, 0, 0, 0, 0, 0, 0, 0, 0, 0, 0, 1, 0, 0, 0, 0, 0, 0, 0, 0, 0, 0, 0, 0, 0, 0, 0, 0, 0, 0, 0, 0, 0, 0, 0, 0, 0, 0, 0, 0, 0, 0, 0, 0, 0, 0, 0, 0, 0, 0, 0, 0, 0, 0, 0] y: [0, 0, 0, 0, 0, 0, 1, 0, 0, 0]\n",
            "X: [0, 0, 0, 0, 0, 0, 1, 0, 0, 0, 0, 0, 0, 0, 0, 1, 0, 0, 0, 0, 0, 0, 0, 0, 0, 0, 0, 0, 1, 0, 0, 0, 0, 0, 0, 0, 0, 0, 1, 0, 0, 0, 0, 0, 0, 0, 0, 0, 0, 0, 0, 0, 0, 0, 0, 0, 0, 0, 0, 0, 0, 0, 0, 0, 0, 0, 0, 0, 0, 0, 0] y: [0, 0, 0, 0, 0, 0, 1, 0, 0, 0]\n",
            "X: [0, 0, 0, 0, 0, 0, 0, 1, 0, 0, 0, 0, 0, 0, 0, 0, 0, 0, 0, 0, 0, 0, 0, 0, 0, 0, 0, 0, 0, 0, 0, 0, 0, 0, 0, 0, 0, 0, 0, 0, 0, 0, 0, 0, 0, 0, 0, 0, 0, 0, 0, 0, 0, 0, 0, 0, 0, 0, 0, 0, 0, 0, 0, 0, 0, 0, 0, 0, 0, 0, 1] y: [0, 0, 0, 0, 0, 0, 1, 0, 0, 0]\n",
            "X: [0, 0, 0, 0, 0, 0, 0, 0, 0, 0, 0, 0, 0, 0, 0, 0, 0, 0, 0, 0, 0, 0, 0, 0, 0, 0, 0, 0, 0, 0, 0, 0, 0, 0, 0, 0, 0, 0, 0, 0, 0, 0, 0, 0, 1, 0, 0, 0, 0, 0, 0, 0, 0, 0, 0, 0, 0, 0, 0, 0, 0, 0, 0, 1, 0, 0, 0, 0, 1, 0, 1] y: [0, 0, 0, 0, 0, 0, 0, 0, 0, 1]\n",
            "X: [0, 0, 0, 0, 0, 0, 0, 0, 0, 0, 0, 0, 0, 0, 0, 0, 0, 0, 0, 0, 0, 0, 0, 0, 0, 0, 0, 0, 0, 0, 0, 1, 0, 0, 0, 0, 0, 0, 0, 0, 0, 0, 1, 0, 0, 0, 0, 0, 0, 0, 0, 0, 0, 0, 0, 0, 0, 0, 0, 0, 0, 0, 0, 0, 0, 0, 0, 0, 0, 0, 0] y: [0, 0, 0, 0, 0, 0, 0, 0, 0, 1]\n",
            "X: [0, 1, 0, 0, 0, 0, 0, 0, 0, 0, 0, 0, 0, 0, 0, 0, 0, 0, 0, 0, 0, 0, 0, 0, 0, 0, 0, 0, 0, 0, 0, 0, 0, 0, 0, 0, 0, 0, 0, 0, 0, 0, 0, 0, 0, 0, 0, 0, 0, 0, 0, 0, 0, 0, 0, 0, 0, 0, 0, 0, 0, 0, 0, 0, 0, 0, 0, 0, 0, 0, 0] y: [0, 0, 0, 0, 0, 0, 0, 0, 0, 1]\n",
            "X: [0, 0, 0, 0, 0, 0, 0, 0, 0, 0, 0, 0, 0, 0, 0, 0, 0, 0, 0, 0, 0, 0, 0, 0, 0, 0, 0, 0, 0, 0, 0, 0, 0, 0, 0, 0, 0, 0, 1, 0, 0, 0, 0, 0, 0, 0, 0, 0, 0, 0, 0, 0, 0, 0, 0, 0, 0, 0, 0, 0, 0, 0, 0, 0, 0, 0, 0, 0, 0, 0, 1] y: [0, 0, 0, 0, 0, 0, 0, 0, 0, 1]\n",
            "X: [0, 0, 0, 0, 0, 0, 0, 0, 1, 0, 0, 0, 0, 0, 0, 0, 0, 0, 1, 0, 0, 0, 0, 0, 0, 0, 0, 0, 0, 0, 0, 0, 0, 0, 0, 0, 0, 0, 0, 0, 0, 0, 0, 0, 0, 0, 0, 0, 0, 0, 0, 0, 0, 0, 0, 0, 1, 0, 0, 0, 0, 0, 0, 0, 1, 0, 0, 1, 0, 0, 0] y: [0, 0, 0, 0, 0, 0, 0, 0, 0, 1]\n",
            "X: [0, 0, 0, 0, 0, 0, 0, 0, 0, 1, 0, 0, 0, 0, 0, 0, 0, 0, 0, 0, 0, 0, 0, 0, 0, 0, 0, 0, 0, 0, 0, 0, 0, 0, 0, 0, 0, 0, 0, 0, 0, 0, 0, 0, 0, 0, 0, 0, 0, 0, 0, 0, 0, 0, 0, 0, 0, 0, 0, 0, 0, 0, 0, 0, 0, 0, 0, 0, 0, 0, 0] y: [0, 0, 0, 0, 0, 0, 0, 0, 0, 1]\n"
          ]
        }
      ],
      "source": [
        "# Transformar doc_X en bag of words por oneHotEncoding\n",
        "# Transformar doc_Y en un vector de clases multicategórico con oneHotEncoding\n",
        "\n",
        "training = []\n",
        "out_empty = [0] * len(classes)\n",
        "\n",
        "for idx, doc in enumerate(doc_X):\n",
        "    # Transformar la pregunta (input) en tokens y lematizar\n",
        "    text = []\n",
        "    tokens = nlp(preprocess_clean_text(doc.lower()))\n",
        "    for token in tokens:\n",
        "        text.append(token.lemma_)\n",
        "\n",
        "    # Transformar los tokens en \"Bag of words\" (arrays de 1 y 0)\n",
        "    bow = []\n",
        "    for word in words:\n",
        "        bow.append(1) if word in text else bow.append(0)\n",
        "    \n",
        "    # Crear el array de salida (class output) correspondiente\n",
        "    output_row = list(out_empty)\n",
        "    output_row[classes.index(doc_y[idx])] = 1\n",
        "\n",
        "    print(\"X:\", bow, \"y:\", output_row)\n",
        "    training.append([bow, output_row])\n",
        "\n",
        "# Mezclar los datos\n",
        "random.shuffle(training)\n",
        "training = np.array(training, dtype=object)\n",
        "# Dividir en datos de entrada y salida\n",
        "train_X = np.array(list(training[:, 0]))\n",
        "train_y = np.array(list(training[:, 1]))"
      ]
    },
    {
      "cell_type": "code",
      "execution_count": null,
      "metadata": {
        "colab": {
          "base_uri": "https://localhost:8080/"
        },
        "id": "GQaGSWBtauBn",
        "outputId": "1acfe2b5-c211-43ee-bfa4-33ff8aebd51a"
      },
      "outputs": [
        {
          "output_type": "stream",
          "name": "stdout",
          "text": [
            "Input dim 71\n",
            "Output dim 10\n"
          ]
        }
      ],
      "source": [
        "class Data(Dataset):\n",
        "    def __init__(self, x, y):\n",
        "        # Convertir los arrays de numpy a tensores. \n",
        "        # pytorch espera en general entradas 32bits\n",
        "        self.x = torch.from_numpy(x.astype(np.float32))\n",
        "        # las loss function esperan la salida float\n",
        "        self.y = torch.from_numpy(y.astype(np.float32))\n",
        "\n",
        "        self.len = self.y.shape[0]\n",
        "\n",
        "    def __getitem__(self,index):\n",
        "        return self.x[index], self.y[index]\n",
        "\n",
        "    def __len__(self):\n",
        "        return self.len\n",
        "\n",
        "data_set = Data(train_X, train_y)\n",
        "\n",
        "input_dim = data_set.x.shape[1]\n",
        "print(\"Input dim\", input_dim)\n",
        "\n",
        "output_dim = data_set.y.shape[1]\n",
        "print(\"Output dim\", output_dim)"
      ]
    },
    {
      "cell_type": "code",
      "execution_count": null,
      "metadata": {
        "id": "cGw7uV47LuJx"
      },
      "outputs": [],
      "source": [
        "from torch.utils.data import DataLoader\n",
        "\n",
        "train_loader = DataLoader(data_set, batch_size=32, shuffle=False)"
      ]
    },
    {
      "cell_type": "markdown",
      "metadata": {
        "id": "a_Hr8QaDfRf3"
      },
      "source": [
        "### 5 - Entrenamiento del modelo"
      ]
    },
    {
      "cell_type": "code",
      "execution_count": null,
      "metadata": {
        "colab": {
          "base_uri": "https://localhost:8080/"
        },
        "id": "7FNoKNeSbVmY",
        "outputId": "b937ddae-dfd9-4e22-8ce3-1dbf606e795b"
      },
      "outputs": [
        {
          "output_type": "stream",
          "name": "stdout",
          "text": [
            "----------------------------------------------------------------\n",
            "        Layer (type)               Output Shape         Param #\n",
            "================================================================\n",
            "            Linear-1               [-1, 1, 128]           9,216\n",
            "              ReLU-2               [-1, 1, 128]               0\n",
            "           Dropout-3               [-1, 1, 128]               0\n",
            "            Linear-4                [-1, 1, 64]           8,256\n",
            "              ReLU-5                [-1, 1, 64]               0\n",
            "           Dropout-6                [-1, 1, 64]               0\n",
            "            Linear-7                [-1, 1, 10]             650\n",
            "           Softmax-8                [-1, 1, 10]               0\n",
            "================================================================\n",
            "Total params: 18,122\n",
            "Trainable params: 18,122\n",
            "Non-trainable params: 0\n",
            "----------------------------------------------------------------\n",
            "Input size (MB): 0.00\n",
            "Forward/backward pass size (MB): 0.00\n",
            "Params size (MB): 0.07\n",
            "Estimated Total Size (MB): 0.07\n",
            "----------------------------------------------------------------\n"
          ]
        }
      ],
      "source": [
        "class Model1(nn.Module):\n",
        "    def __init__(self, input_dim, output_dim):\n",
        "        super().__init__()\n",
        "        self.fc1 = nn.Linear(in_features=input_dim, out_features=128) # fully connected layer\n",
        "        self.fc2 = nn.Linear(in_features=128, out_features=64) # fully connected layer\n",
        "        self.fc3 = nn.Linear(in_features=64, out_features=output_dim) # fully connected layer\n",
        "        \n",
        "        self.relu = nn.ReLU()\n",
        "        self.softmax = nn.Softmax(dim=1) # normalize in dim 1\n",
        "        self.dropout = nn.Dropout(0.5)\n",
        "\n",
        "    def forward(self, x):\n",
        "        out = self.relu(self.fc1(x))\n",
        "        out = self.dropout(out)\n",
        "        out = self.relu(self.fc2(out))\n",
        "        out = self.dropout(out)\n",
        "        out = self.softmax(self.fc3(out))\n",
        "        return out\n",
        "\n",
        "# Crear el modelo basado en la arquitectura definida\n",
        "model1 = Model1(input_dim=input_dim, output_dim=output_dim)\n",
        "# Crear el optimizador la una función de error\n",
        "model1_optimizer = torch.optim.Adam(model1.parameters(), lr=0.001)\n",
        "model1_criterion = torch.nn.CrossEntropyLoss()  # Para clasificación multi categórica\n",
        "\n",
        "torchsummary.summary(model1, input_size=(1, input_dim))"
      ]
    },
    {
      "cell_type": "code",
      "execution_count": null,
      "metadata": {
        "id": "-Ap_Ts8Ga39y"
      },
      "outputs": [],
      "source": [
        "from torch_helpers import categorical_acc\n",
        "\n",
        "def train(model, train_loader, optimizer, criterion, epochs=100):\n",
        "    # Defino listas para realizar graficas de los resultados\n",
        "    train_loss = []\n",
        "    train_accuracy = []\n",
        "\n",
        "    ## Defino mi loop de entrenamiento\n",
        "\n",
        "    for epoch in range(epochs):\n",
        "\n",
        "        epoch_train_loss = 0.0\n",
        "        epoch_train_accuracy = 0.0\n",
        "\n",
        "        for train_data, train_target in train_loader:\n",
        "\n",
        "            # Seteo los gradientes en cero ya que, por defecto, PyTorch\n",
        "            # los va acumulando\n",
        "            optimizer.zero_grad()\n",
        "\n",
        "            output = model(train_data)\n",
        "\n",
        "            # Computo el error de la salida comparando contra las etiquetas\n",
        "            loss = criterion(output, train_target)\n",
        "\n",
        "            # Almaceno el error del batch para luego tener el error promedio de la epoca\n",
        "            epoch_train_loss += loss.item()\n",
        "\n",
        "            # Computo el nuevo set de gradientes a lo largo de toda la red\n",
        "            loss.backward()\n",
        "\n",
        "            # Realizo el paso de optimizacion actualizando los parametros de toda la red\n",
        "            optimizer.step()\n",
        "            \n",
        "            # Calculo el accuracy del batch\n",
        "            accuracy = categorical_acc(output, train_target)\n",
        "            # Almaceno el accuracy del batch para luego tener el accuracy promedio de la epoca\n",
        "            epoch_train_accuracy += accuracy.item()\n",
        "\n",
        "        # Calculo la media de error y accuracy para la epoca de entrenamiento.\n",
        "        # La longitud de train_loader es igual a la cantidad de batches dentro de una epoca.\n",
        "        epoch_train_loss = epoch_train_loss / len(train_loader)\n",
        "        train_loss.append(epoch_train_loss)\n",
        "        epoch_train_accuracy = epoch_train_accuracy / len(train_loader)        \n",
        "        train_accuracy.append(epoch_train_accuracy)\n",
        "\n",
        "        print(f\"Epoch: {epoch+1}/{epochs} - Train loss {epoch_train_loss:.3f} - Train accuracy {epoch_train_accuracy:.3f}\")\n",
        "\n",
        "    history = {\n",
        "        \"loss\": train_loss,\n",
        "        \"accuracy\": train_accuracy,\n",
        "    }\n",
        "    \n",
        "    return history"
      ]
    },
    {
      "cell_type": "code",
      "execution_count": null,
      "metadata": {
        "colab": {
          "base_uri": "https://localhost:8080/"
        },
        "id": "r6hi4EcdOghm",
        "outputId": "98f19532-08d7-417d-e180-8984f433fe58"
      },
      "outputs": [
        {
          "output_type": "stream",
          "name": "stdout",
          "text": [
            "Epoch: 1/150 - Train loss 2.303 - Train accuracy 0.031\n",
            "Epoch: 2/150 - Train loss 2.302 - Train accuracy 0.104\n",
            "Epoch: 3/150 - Train loss 2.303 - Train accuracy 0.089\n",
            "Epoch: 4/150 - Train loss 2.301 - Train accuracy 0.183\n",
            "Epoch: 5/150 - Train loss 2.301 - Train accuracy 0.131\n",
            "Epoch: 6/150 - Train loss 2.298 - Train accuracy 0.183\n",
            "Epoch: 7/150 - Train loss 2.298 - Train accuracy 0.215\n",
            "Epoch: 8/150 - Train loss 2.299 - Train accuracy 0.157\n",
            "Epoch: 9/150 - Train loss 2.298 - Train accuracy 0.252\n",
            "Epoch: 10/150 - Train loss 2.297 - Train accuracy 0.257\n",
            "Epoch: 11/150 - Train loss 2.296 - Train accuracy 0.204\n",
            "Epoch: 12/150 - Train loss 2.296 - Train accuracy 0.235\n",
            "Epoch: 13/150 - Train loss 2.295 - Train accuracy 0.246\n",
            "Epoch: 14/150 - Train loss 2.295 - Train accuracy 0.257\n",
            "Epoch: 15/150 - Train loss 2.292 - Train accuracy 0.314\n",
            "Epoch: 16/150 - Train loss 2.290 - Train accuracy 0.303\n",
            "Epoch: 17/150 - Train loss 2.286 - Train accuracy 0.303\n",
            "Epoch: 18/150 - Train loss 2.284 - Train accuracy 0.330\n",
            "Epoch: 19/150 - Train loss 2.284 - Train accuracy 0.377\n",
            "Epoch: 20/150 - Train loss 2.282 - Train accuracy 0.382\n",
            "Epoch: 21/150 - Train loss 2.283 - Train accuracy 0.288\n",
            "Epoch: 22/150 - Train loss 2.276 - Train accuracy 0.451\n",
            "Epoch: 23/150 - Train loss 2.275 - Train accuracy 0.471\n",
            "Epoch: 24/150 - Train loss 2.269 - Train accuracy 0.451\n",
            "Epoch: 25/150 - Train loss 2.276 - Train accuracy 0.303\n",
            "Epoch: 26/150 - Train loss 2.268 - Train accuracy 0.445\n",
            "Epoch: 27/150 - Train loss 2.257 - Train accuracy 0.429\n",
            "Epoch: 28/150 - Train loss 2.258 - Train accuracy 0.440\n",
            "Epoch: 29/150 - Train loss 2.254 - Train accuracy 0.419\n",
            "Epoch: 30/150 - Train loss 2.243 - Train accuracy 0.493\n",
            "Epoch: 31/150 - Train loss 2.248 - Train accuracy 0.471\n",
            "Epoch: 32/150 - Train loss 2.236 - Train accuracy 0.518\n",
            "Epoch: 33/150 - Train loss 2.215 - Train accuracy 0.581\n",
            "Epoch: 34/150 - Train loss 2.204 - Train accuracy 0.561\n",
            "Epoch: 35/150 - Train loss 2.209 - Train accuracy 0.524\n",
            "Epoch: 36/150 - Train loss 2.230 - Train accuracy 0.492\n",
            "Epoch: 37/150 - Train loss 2.212 - Train accuracy 0.471\n",
            "Epoch: 38/150 - Train loss 2.186 - Train accuracy 0.566\n",
            "Epoch: 39/150 - Train loss 2.194 - Train accuracy 0.488\n",
            "Epoch: 40/150 - Train loss 2.168 - Train accuracy 0.566\n",
            "Epoch: 41/150 - Train loss 2.152 - Train accuracy 0.623\n",
            "Epoch: 42/150 - Train loss 2.169 - Train accuracy 0.555\n",
            "Epoch: 43/150 - Train loss 2.129 - Train accuracy 0.608\n",
            "Epoch: 44/150 - Train loss 2.141 - Train accuracy 0.608\n",
            "Epoch: 45/150 - Train loss 2.131 - Train accuracy 0.660\n",
            "Epoch: 46/150 - Train loss 2.080 - Train accuracy 0.697\n",
            "Epoch: 47/150 - Train loss 2.049 - Train accuracy 0.738\n",
            "Epoch: 48/150 - Train loss 2.074 - Train accuracy 0.650\n",
            "Epoch: 49/150 - Train loss 2.075 - Train accuracy 0.628\n",
            "Epoch: 50/150 - Train loss 2.032 - Train accuracy 0.650\n",
            "Epoch: 51/150 - Train loss 2.042 - Train accuracy 0.623\n",
            "Epoch: 52/150 - Train loss 2.043 - Train accuracy 0.670\n",
            "Epoch: 53/150 - Train loss 2.013 - Train accuracy 0.697\n",
            "Epoch: 54/150 - Train loss 2.009 - Train accuracy 0.655\n",
            "Epoch: 55/150 - Train loss 2.010 - Train accuracy 0.728\n",
            "Epoch: 56/150 - Train loss 1.969 - Train accuracy 0.707\n",
            "Epoch: 57/150 - Train loss 1.959 - Train accuracy 0.738\n",
            "Epoch: 58/150 - Train loss 1.945 - Train accuracy 0.701\n",
            "Epoch: 59/150 - Train loss 1.958 - Train accuracy 0.717\n",
            "Epoch: 60/150 - Train loss 1.916 - Train accuracy 0.765\n",
            "Epoch: 61/150 - Train loss 1.869 - Train accuracy 0.796\n",
            "Epoch: 62/150 - Train loss 1.931 - Train accuracy 0.649\n",
            "Epoch: 63/150 - Train loss 1.893 - Train accuracy 0.754\n",
            "Epoch: 64/150 - Train loss 1.882 - Train accuracy 0.796\n",
            "Epoch: 65/150 - Train loss 1.871 - Train accuracy 0.822\n",
            "Epoch: 66/150 - Train loss 1.825 - Train accuracy 0.864\n",
            "Epoch: 67/150 - Train loss 1.879 - Train accuracy 0.728\n",
            "Epoch: 68/150 - Train loss 1.828 - Train accuracy 0.812\n",
            "Epoch: 69/150 - Train loss 1.813 - Train accuracy 0.838\n",
            "Epoch: 70/150 - Train loss 1.835 - Train accuracy 0.812\n",
            "Epoch: 71/150 - Train loss 1.806 - Train accuracy 0.812\n",
            "Epoch: 72/150 - Train loss 1.815 - Train accuracy 0.838\n",
            "Epoch: 73/150 - Train loss 1.804 - Train accuracy 0.807\n",
            "Epoch: 74/150 - Train loss 1.812 - Train accuracy 0.843\n",
            "Epoch: 75/150 - Train loss 1.793 - Train accuracy 0.812\n",
            "Epoch: 76/150 - Train loss 1.799 - Train accuracy 0.838\n",
            "Epoch: 77/150 - Train loss 1.762 - Train accuracy 0.864\n",
            "Epoch: 78/150 - Train loss 1.760 - Train accuracy 0.885\n",
            "Epoch: 79/150 - Train loss 1.724 - Train accuracy 0.880\n",
            "Epoch: 80/150 - Train loss 1.800 - Train accuracy 0.891\n",
            "Epoch: 81/150 - Train loss 1.715 - Train accuracy 0.906\n",
            "Epoch: 82/150 - Train loss 1.786 - Train accuracy 0.880\n",
            "Epoch: 83/150 - Train loss 1.713 - Train accuracy 0.922\n",
            "Epoch: 84/150 - Train loss 1.688 - Train accuracy 0.906\n",
            "Epoch: 85/150 - Train loss 1.734 - Train accuracy 0.869\n",
            "Epoch: 86/150 - Train loss 1.709 - Train accuracy 0.880\n",
            "Epoch: 87/150 - Train loss 1.712 - Train accuracy 0.869\n",
            "Epoch: 88/150 - Train loss 1.667 - Train accuracy 0.938\n",
            "Epoch: 89/150 - Train loss 1.660 - Train accuracy 0.906\n",
            "Epoch: 90/150 - Train loss 1.685 - Train accuracy 0.885\n",
            "Epoch: 91/150 - Train loss 1.660 - Train accuracy 0.906\n",
            "Epoch: 92/150 - Train loss 1.661 - Train accuracy 0.880\n",
            "Epoch: 93/150 - Train loss 1.666 - Train accuracy 0.911\n",
            "Epoch: 94/150 - Train loss 1.661 - Train accuracy 0.875\n",
            "Epoch: 95/150 - Train loss 1.658 - Train accuracy 0.896\n",
            "Epoch: 96/150 - Train loss 1.626 - Train accuracy 0.922\n",
            "Epoch: 97/150 - Train loss 1.650 - Train accuracy 0.880\n",
            "Epoch: 98/150 - Train loss 1.650 - Train accuracy 0.891\n",
            "Epoch: 99/150 - Train loss 1.638 - Train accuracy 0.906\n",
            "Epoch: 100/150 - Train loss 1.626 - Train accuracy 0.906\n",
            "Epoch: 101/150 - Train loss 1.659 - Train accuracy 0.896\n",
            "Epoch: 102/150 - Train loss 1.650 - Train accuracy 0.880\n",
            "Epoch: 103/150 - Train loss 1.626 - Train accuracy 0.922\n",
            "Epoch: 104/150 - Train loss 1.608 - Train accuracy 0.938\n",
            "Epoch: 105/150 - Train loss 1.616 - Train accuracy 0.922\n",
            "Epoch: 106/150 - Train loss 1.654 - Train accuracy 0.896\n",
            "Epoch: 107/150 - Train loss 1.627 - Train accuracy 0.922\n",
            "Epoch: 108/150 - Train loss 1.599 - Train accuracy 0.896\n",
            "Epoch: 109/150 - Train loss 1.595 - Train accuracy 0.922\n",
            "Epoch: 110/150 - Train loss 1.582 - Train accuracy 0.938\n",
            "Epoch: 111/150 - Train loss 1.604 - Train accuracy 0.911\n",
            "Epoch: 112/150 - Train loss 1.586 - Train accuracy 0.922\n",
            "Epoch: 113/150 - Train loss 1.594 - Train accuracy 0.922\n",
            "Epoch: 114/150 - Train loss 1.594 - Train accuracy 0.938\n",
            "Epoch: 115/150 - Train loss 1.629 - Train accuracy 0.891\n",
            "Epoch: 116/150 - Train loss 1.607 - Train accuracy 0.906\n",
            "Epoch: 117/150 - Train loss 1.598 - Train accuracy 0.922\n",
            "Epoch: 118/150 - Train loss 1.589 - Train accuracy 0.938\n",
            "Epoch: 119/150 - Train loss 1.599 - Train accuracy 0.922\n",
            "Epoch: 120/150 - Train loss 1.576 - Train accuracy 0.938\n",
            "Epoch: 121/150 - Train loss 1.602 - Train accuracy 0.922\n",
            "Epoch: 122/150 - Train loss 1.558 - Train accuracy 0.938\n",
            "Epoch: 123/150 - Train loss 1.587 - Train accuracy 0.922\n",
            "Epoch: 124/150 - Train loss 1.569 - Train accuracy 0.938\n",
            "Epoch: 125/150 - Train loss 1.603 - Train accuracy 0.885\n",
            "Epoch: 126/150 - Train loss 1.588 - Train accuracy 0.922\n",
            "Epoch: 127/150 - Train loss 1.574 - Train accuracy 0.938\n",
            "Epoch: 128/150 - Train loss 1.557 - Train accuracy 0.938\n",
            "Epoch: 129/150 - Train loss 1.558 - Train accuracy 0.938\n",
            "Epoch: 130/150 - Train loss 1.563 - Train accuracy 0.938\n",
            "Epoch: 131/150 - Train loss 1.548 - Train accuracy 0.938\n",
            "Epoch: 132/150 - Train loss 1.548 - Train accuracy 0.953\n",
            "Epoch: 133/150 - Train loss 1.558 - Train accuracy 0.938\n",
            "Epoch: 134/150 - Train loss 1.571 - Train accuracy 0.938\n",
            "Epoch: 135/150 - Train loss 1.556 - Train accuracy 0.922\n",
            "Epoch: 136/150 - Train loss 1.545 - Train accuracy 0.953\n",
            "Epoch: 137/150 - Train loss 1.572 - Train accuracy 0.953\n",
            "Epoch: 138/150 - Train loss 1.573 - Train accuracy 0.938\n",
            "Epoch: 139/150 - Train loss 1.535 - Train accuracy 0.938\n",
            "Epoch: 140/150 - Train loss 1.538 - Train accuracy 0.969\n",
            "Epoch: 141/150 - Train loss 1.539 - Train accuracy 0.953\n",
            "Epoch: 142/150 - Train loss 1.553 - Train accuracy 0.969\n",
            "Epoch: 143/150 - Train loss 1.556 - Train accuracy 0.938\n",
            "Epoch: 144/150 - Train loss 1.542 - Train accuracy 0.969\n",
            "Epoch: 145/150 - Train loss 1.581 - Train accuracy 0.953\n",
            "Epoch: 146/150 - Train loss 1.561 - Train accuracy 0.969\n",
            "Epoch: 147/150 - Train loss 1.580 - Train accuracy 0.927\n",
            "Epoch: 148/150 - Train loss 1.566 - Train accuracy 0.969\n",
            "Epoch: 149/150 - Train loss 1.554 - Train accuracy 0.938\n",
            "Epoch: 150/150 - Train loss 1.576 - Train accuracy 0.953\n"
          ]
        }
      ],
      "source": [
        "history1 = train(model1,\n",
        "                train_loader,\n",
        "                model1_optimizer,\n",
        "                model1_criterion,\n",
        "                epochs=150\n",
        "                )"
      ]
    },
    {
      "cell_type": "code",
      "execution_count": null,
      "metadata": {
        "colab": {
          "base_uri": "https://localhost:8080/",
          "height": 430
        },
        "id": "Pb1GZDjGRP6Q",
        "outputId": "5b09a9d4-b497-463f-93d3-9b45ce8008b2"
      },
      "outputs": [
        {
          "output_type": "display_data",
          "data": {
            "text/plain": [
              "<Figure size 640x480 with 1 Axes>"
            ],
            "image/png": "[encoded data removed]"
          },
          "metadata": {}
        }
      ],
      "source": [
        "epoch_count = range(1, len(history1['accuracy']) + 1)\n",
        "sns.lineplot(x=epoch_count,  y=history1['accuracy'], label='train')\n",
        "plt.show()"
      ]
    },
    {
      "cell_type": "markdown",
      "metadata": {
        "id": "TnD1WvhBfVYR"
      },
      "source": [
        "### 6 - Testing y validación"
      ]
    },
    {
      "cell_type": "code",
      "execution_count": null,
      "metadata": {
        "id": "kqBdSGt8Orkm"
      },
      "outputs": [],
      "source": [
        "def text_to_tokens(text): \n",
        "    lemma_tokens = []\n",
        "    tokens = nlp(preprocess_clean_text(text.lower()))\n",
        "    for token in tokens:\n",
        "        lemma_tokens.append(token.lemma_)\n",
        "    #print(lemma_tokens)\n",
        "    return lemma_tokens\n",
        "\n",
        "def bag_of_words(text, vocab): \n",
        "    tokens = text_to_tokens(text)\n",
        "    bow = [0] * len(vocab)\n",
        "    for w in tokens: \n",
        "        for idx, word in enumerate(vocab):\n",
        "            if word == w: \n",
        "                bow[idx] = 1\n",
        "    #print(bow)\n",
        "    return np.array(bow)\n",
        "\n",
        "def pred_class(text, vocab, labels): \n",
        "    bow = bag_of_words(text, vocab)\n",
        "    words_recognized = sum(bow)\n",
        "\n",
        "    return_list = []\n",
        "    if words_recognized > 0:\n",
        "        x = torch.from_numpy(np.array([bow]).astype(np.float32))\n",
        "        result = model1(x)[0].detach().numpy()\n",
        "        thresh = 0.2\n",
        "        y_pred = [[idx, res] for idx, res in enumerate(result) if res > thresh]\n",
        "        y_pred.sort(key=lambda x: x[1], reverse=True)\n",
        "\n",
        "        for r in y_pred:\n",
        "            return_list.append(labels[r[0]])\n",
        "            #print(labels[r[0]], r[1])\n",
        "\n",
        "    return return_list\n",
        "\n",
        "def get_response(intents_list, intents_json):\n",
        "    tag = intents_list[0]\n",
        "    list_of_intents = intents_json[\"intents\"]\n",
        "    for i in list_of_intents: \n",
        "        if i[\"tag\"] == tag:\n",
        "            result = \"BOT: \" + random.choice(i[\"responses\"])\n",
        "            break\n",
        "    return result"
      ]
    },
    {
      "cell_type": "code",
      "execution_count": null,
      "metadata": {
        "colab": {
          "base_uri": "https://localhost:8080/"
        },
        "id": "CivDeypZNF2o",
        "outputId": "d9449979-a41a-4555-ff36-c6368b651673"
      },
      "outputs": [
        {
          "output_type": "stream",
          "name": "stdout",
          "text": [
            "BOT: Hola, gracias por visitarnos\n"
          ]
        }
      ],
      "source": [
        "message = \"buen dia\"\n",
        "intents = pred_class(message, words, classes)\n",
        "if len(intents) > 0:\n",
        "    result = get_response(intents, dataset)\n",
        "    print(result)"
      ]
    },
    {
      "cell_type": "code",
      "execution_count": null,
      "metadata": {
        "colab": {
          "base_uri": "https://localhost:8080/",
          "height": 1000
        },
        "id": "Xp1vXQwdOvl7",
        "outputId": "1a8bb025-5120-4bb8-912c-288020246c66"
      },
      "outputs": [
        {
          "output_type": "stream",
          "name": "stdout",
          "text": [
            "Hola \n",
            "BOT:  ¡Hola!\n",
            "Con quien hablo\n",
            "BOT:  Soy Tatiana, tu asistente de aprendizaje virtual para IA\n",
            "Me gustaria saber sobre la visiión por computadora\n",
            "BOT: Puedes aprender a traves del siguiete link <https://github.com/FIUBA-Posgrado-Inteligencia-Artificial/intro_ia>\n",
            "perdon, que es vision por computadora\n",
            "BOT: Puedes aprender a traves del siguiete link <https://github.com/FIUBA-Posgrado-Inteligencia-Artificial/vision_computadora_II>\n",
            "gracias \n",
            "BOT: Por nada!, cualquier otra consulta sobre la IA podes escribirme\n",
            "chao\n",
            "BOT: Chao\n",
            "Hola\n",
            "BOT: Hola, gracias por visitarnos\n",
            "\n",
            "Perdón, no entiendo que deseas estudiar.\n",
            "cual es tu nombre\n",
            "BOT:  Soy Tatiana, tu asistente de aprendizaje virtual para IA\n",
            "quiero saber que es PLN\n",
            "BOT: Puedes aprender a traves del siguiete link <https://github.com/FIUBA-Posgrado-Inteligencia-Artificial/procesamiento_lenguaje_natural>\n",
            "A+\n",
            "Perdón, no entiendo que deseas estudiar.\n",
            "Adios\n",
            "BOT: Chao\n",
            "\n",
            "Perdón, no entiendo que deseas estudiar.\n",
            "\n",
            "Perdón, no entiendo que deseas estudiar.\n",
            "Hola \n",
            "BOT: Es bueno leerte de nuevo\n",
            "tu nombre es \n",
            "BOT:  Soy Tatiana, tu asistente de aprendizaje virtual para IA\n",
            "como estas \n",
            "BOT: Bien, ¿cómo puedo ayudarte?\n",
            "que es VC\n",
            "BOT: Puedes aprender a traves del siguiete link <https://github.com/FIUBA-Posgrado-Inteligencia-Artificial/intro_ia>\n",
            "Vision artificial\n",
            "BOT: Puedes aprender a traves del siguiete link <https://github.com/FIUBA-Posgrado-Inteligencia-Artificial/vision_computadora_II>\n",
            "leguaje natural\n",
            "BOT: Puedes aprender a traves del siguiete link <https://github.com/FIUBA-Posgrado-Inteligencia-Artificial/procesamiento_lenguaje_natural>\n",
            "IA\n",
            "BOT:  Espero haber sido de ayuda, A+ \n",
            "que es IA\n",
            "BOT: Puedes aprender a traves del siguiete link <https://github.com/FIUBA-Posgrado-Inteligencia-Artificial/intro_ia>\n",
            "Hasta luego\n",
            "BOT:  Espero haber sido de ayuda, A+ \n"
          ]
        },
        {
          "output_type": "error",
          "ename": "KeyboardInterrupt",
          "evalue": "ignored",
          "traceback": [
            "\u001b[0;31m---------------------------------------------------------------------------\u001b[0m",
            "\u001b[0;31mKeyboardInterrupt\u001b[0m                         Traceback (most recent call last)",
            "\u001b[0;32m<ipython-input-23-8391f43dda8c>\u001b[0m in \u001b[0;36m<cell line: 2>\u001b[0;34m()\u001b[0m\n\u001b[1;32m      1\u001b[0m \u001b[0;32mwhile\u001b[0m \u001b[0;32mTrue\u001b[0m\u001b[0;34m:\u001b[0m\u001b[0;34m\u001b[0m\u001b[0;34m\u001b[0m\u001b[0m\n\u001b[0;32m----> 2\u001b[0;31m     \u001b[0mmessage\u001b[0m \u001b[0;34m=\u001b[0m \u001b[0minput\u001b[0m\u001b[0;34m(\u001b[0m\u001b[0;34m\"\"\u001b[0m\u001b[0;34m)\u001b[0m\u001b[0;34m\u001b[0m\u001b[0;34m\u001b[0m\u001b[0m\n\u001b[0m\u001b[1;32m      3\u001b[0m     \u001b[0mintents\u001b[0m \u001b[0;34m=\u001b[0m \u001b[0mpred_class\u001b[0m\u001b[0;34m(\u001b[0m\u001b[0mmessage\u001b[0m\u001b[0;34m,\u001b[0m \u001b[0mwords\u001b[0m\u001b[0;34m,\u001b[0m \u001b[0mclasses\u001b[0m\u001b[0;34m)\u001b[0m\u001b[0;34m\u001b[0m\u001b[0;34m\u001b[0m\u001b[0m\n\u001b[1;32m      4\u001b[0m     \u001b[0;32mif\u001b[0m \u001b[0mlen\u001b[0m\u001b[0;34m(\u001b[0m\u001b[0mintents\u001b[0m\u001b[0;34m)\u001b[0m \u001b[0;34m>\u001b[0m \u001b[0;36m0\u001b[0m\u001b[0;34m:\u001b[0m\u001b[0;34m\u001b[0m\u001b[0;34m\u001b[0m\u001b[0m\n\u001b[1;32m      5\u001b[0m         \u001b[0mresult\u001b[0m \u001b[0;34m=\u001b[0m \u001b[0mget_response\u001b[0m\u001b[0;34m(\u001b[0m\u001b[0mintents\u001b[0m\u001b[0;34m,\u001b[0m \u001b[0mdataset\u001b[0m\u001b[0;34m)\u001b[0m\u001b[0;34m\u001b[0m\u001b[0;34m\u001b[0m\u001b[0m\n",
            "\u001b[0;32m/usr/local/lib/python3.9/dist-packages/ipykernel/kernelbase.py\u001b[0m in \u001b[0;36mraw_input\u001b[0;34m(self, prompt)\u001b[0m\n\u001b[1;32m    849\u001b[0m                 \u001b[0;34m\"raw_input was called, but this frontend does not support input requests.\"\u001b[0m\u001b[0;34m\u001b[0m\u001b[0;34m\u001b[0m\u001b[0m\n\u001b[1;32m    850\u001b[0m             )\n\u001b[0;32m--> 851\u001b[0;31m         return self._input_request(str(prompt),\n\u001b[0m\u001b[1;32m    852\u001b[0m             \u001b[0mself\u001b[0m\u001b[0;34m.\u001b[0m\u001b[0m_parent_ident\u001b[0m\u001b[0;34m,\u001b[0m\u001b[0;34m\u001b[0m\u001b[0;34m\u001b[0m\u001b[0m\n\u001b[1;32m    853\u001b[0m             \u001b[0mself\u001b[0m\u001b[0;34m.\u001b[0m\u001b[0m_parent_header\u001b[0m\u001b[0;34m,\u001b[0m\u001b[0;34m\u001b[0m\u001b[0;34m\u001b[0m\u001b[0m\n",
            "\u001b[0;32m/usr/local/lib/python3.9/dist-packages/ipykernel/kernelbase.py\u001b[0m in \u001b[0;36m_input_request\u001b[0;34m(self, prompt, ident, parent, password)\u001b[0m\n\u001b[1;32m    893\u001b[0m             \u001b[0;32mexcept\u001b[0m \u001b[0mKeyboardInterrupt\u001b[0m\u001b[0;34m:\u001b[0m\u001b[0;34m\u001b[0m\u001b[0;34m\u001b[0m\u001b[0m\n\u001b[1;32m    894\u001b[0m                 \u001b[0;31m# re-raise KeyboardInterrupt, to truncate traceback\u001b[0m\u001b[0;34m\u001b[0m\u001b[0;34m\u001b[0m\u001b[0m\n\u001b[0;32m--> 895\u001b[0;31m                 \u001b[0;32mraise\u001b[0m \u001b[0mKeyboardInterrupt\u001b[0m\u001b[0;34m(\u001b[0m\u001b[0;34m\"Interrupted by user\"\u001b[0m\u001b[0;34m)\u001b[0m \u001b[0;32mfrom\u001b[0m \u001b[0;32mNone\u001b[0m\u001b[0;34m\u001b[0m\u001b[0;34m\u001b[0m\u001b[0m\n\u001b[0m\u001b[1;32m    896\u001b[0m             \u001b[0;32mexcept\u001b[0m \u001b[0mException\u001b[0m \u001b[0;32mas\u001b[0m \u001b[0me\u001b[0m\u001b[0;34m:\u001b[0m\u001b[0;34m\u001b[0m\u001b[0;34m\u001b[0m\u001b[0m\n\u001b[1;32m    897\u001b[0m                 \u001b[0mself\u001b[0m\u001b[0;34m.\u001b[0m\u001b[0mlog\u001b[0m\u001b[0;34m.\u001b[0m\u001b[0mwarning\u001b[0m\u001b[0;34m(\u001b[0m\u001b[0;34m\"Invalid Message:\"\u001b[0m\u001b[0;34m,\u001b[0m \u001b[0mexc_info\u001b[0m\u001b[0;34m=\u001b[0m\u001b[0;32mTrue\u001b[0m\u001b[0;34m)\u001b[0m\u001b[0;34m\u001b[0m\u001b[0;34m\u001b[0m\u001b[0m\n",
            "\u001b[0;31mKeyboardInterrupt\u001b[0m: Interrupted by user"
          ]
        }
      ],
      "source": [
        "while True:\n",
        "    message = input(\"\")\n",
        "    intents = pred_class(message, words, classes)\n",
        "    if len(intents) > 0:\n",
        "        result = get_response(intents, dataset)\n",
        "        print(result)\n",
        "    else:\n",
        "        print(\"Perdón, no entiendo que deseas estudiar.\")\n",
        "    "
      ]
    }
  ],
  "metadata": {
    "colab": {
      "provenance": []
    },
    "kernelspec": {
      "display_name": "Python 3",
      "name": "python3"
    },
    "language_info": {
      "name": "python"
    },
    "widgets": {
      "application/vnd.jupyter.widget-state+json": {
        "b54b76ccbd034781b4800c9d62ac6412": {
          "model_module": "@jupyter-widgets/controls",
          "model_name": "HBoxModel",
          "model_module_version": "1.5.0",
          "state": {
            "_dom_classes": [],
            "_model_module": "@jupyter-widgets/controls",
            "_model_module_version": "1.5.0",
            "_model_name": "HBoxModel",
            "_view_count": null,
            "_view_module": "@jupyter-widgets/controls",
            "_view_module_version": "1.5.0",
            "_view_name": "HBoxView",
            "box_style": "",
            "children": [
              "IPY_MODEL_6c8664fc21dd4d1198e1f0bffd9f55e0",
              "IPY_MODEL_bcbc7093e41849ad8e8e7263c332e9bb",
              "IPY_MODEL_3152a227005c443ba44e6a48a5e96e55"
            ],
            "layout": "IPY_MODEL_f0ad809de83c48b4941abce6a72def37"
          }
        },
        "6c8664fc21dd4d1198e1f0bffd9f55e0": {
          "model_module": "@jupyter-widgets/controls",
          "model_name": "HTMLModel",
          "model_module_version": "1.5.0",
          "state": {
            "_dom_classes": [],
            "_model_module": "@jupyter-widgets/controls",
            "_model_module_version": "1.5.0",
            "_model_name": "HTMLModel",
            "_view_count": null,
            "_view_module": "@jupyter-widgets/controls",
            "_view_module_version": "1.5.0",
            "_view_name": "HTMLView",
            "description": "",
            "description_tooltip": null,
            "layout": "IPY_MODEL_441f0adbd9d54a888bf1190d0614a3f9",
            "placeholder": "​",
            "style": "IPY_MODEL_eb2e7325d481482d84417b00121ef9ff",
            "value": "Downloading https://raw.githubusercontent.com/stanfordnlp/stanza-resources/main/resources_1.2.2.json: "
          }
        },
        "bcbc7093e41849ad8e8e7263c332e9bb": {
          "model_module": "@jupyter-widgets/controls",
          "model_name": "FloatProgressModel",
          "model_module_version": "1.5.0",
          "state": {
            "_dom_classes": [],
            "_model_module": "@jupyter-widgets/controls",
            "_model_module_version": "1.5.0",
            "_model_name": "FloatProgressModel",
            "_view_count": null,
            "_view_module": "@jupyter-widgets/controls",
            "_view_module_version": "1.5.0",
            "_view_name": "ProgressView",
            "bar_style": "success",
            "description": "",
            "description_tooltip": null,
            "layout": "IPY_MODEL_8fd51526ef0d479c975eb84fad10110b",
            "max": 24144,
            "min": 0,
            "orientation": "horizontal",
            "style": "IPY_MODEL_6dd554b44b934bfa9c35b20aa2af34a1",
            "value": 24144
          }
        },
        "3152a227005c443ba44e6a48a5e96e55": {
          "model_module": "@jupyter-widgets/controls",
          "model_name": "HTMLModel",
          "model_module_version": "1.5.0",
          "state": {
            "_dom_classes": [],
            "_model_module": "@jupyter-widgets/controls",
            "_model_module_version": "1.5.0",
            "_model_name": "HTMLModel",
            "_view_count": null,
            "_view_module": "@jupyter-widgets/controls",
            "_view_module_version": "1.5.0",
            "_view_name": "HTMLView",
            "description": "",
            "description_tooltip": null,
            "layout": "IPY_MODEL_10c999c5930b49ebb9fc0abe43e38a93",
            "placeholder": "​",
            "style": "IPY_MODEL_fdf953e50a20496fa74ca523a6c8a81a",
            "value": " 140k/? [00:00&lt;00:00, 3.26MB/s]"
          }
        },
        "f0ad809de83c48b4941abce6a72def37": {
          "model_module": "@jupyter-widgets/base",
          "model_name": "LayoutModel",
          "model_module_version": "1.2.0",
          "state": {
            "_model_module": "@jupyter-widgets/base",
            "_model_module_version": "1.2.0",
            "_model_name": "LayoutModel",
            "_view_count": null,
            "_view_module": "@jupyter-widgets/base",
            "_view_module_version": "1.2.0",
            "_view_name": "LayoutView",
            "align_content": null,
            "align_items": null,
            "align_self": null,
            "border": null,
            "bottom": null,
            "display": null,
            "flex": null,
            "flex_flow": null,
            "grid_area": null,
            "grid_auto_columns": null,
            "grid_auto_flow": null,
            "grid_auto_rows": null,
            "grid_column": null,
            "grid_gap": null,
            "grid_row": null,
            "grid_template_areas": null,
            "grid_template_columns": null,
            "grid_template_rows": null,
            "height": null,
            "justify_content": null,
            "justify_items": null,
            "left": null,
            "margin": null,
            "max_height": null,
            "max_width": null,
            "min_height": null,
            "min_width": null,
            "object_fit": null,
            "object_position": null,
            "order": null,
            "overflow": null,
            "overflow_x": null,
            "overflow_y": null,
            "padding": null,
            "right": null,
            "top": null,
            "visibility": null,
            "width": null
          }
        },
        "441f0adbd9d54a888bf1190d0614a3f9": {
          "model_module": "@jupyter-widgets/base",
          "model_name": "LayoutModel",
          "model_module_version": "1.2.0",
          "state": {
            "_model_module": "@jupyter-widgets/base",
            "_model_module_version": "1.2.0",
            "_model_name": "LayoutModel",
            "_view_count": null,
            "_view_module": "@jupyter-widgets/base",
            "_view_module_version": "1.2.0",
            "_view_name": "LayoutView",
            "align_content": null,
            "align_items": null,
            "align_self": null,
            "border": null,
            "bottom": null,
            "display": null,
            "flex": null,
            "flex_flow": null,
            "grid_area": null,
            "grid_auto_columns": null,
            "grid_auto_flow": null,
            "grid_auto_rows": null,
            "grid_column": null,
            "grid_gap": null,
            "grid_row": null,
            "grid_template_areas": null,
            "grid_template_columns": null,
            "grid_template_rows": null,
            "height": null,
            "justify_content": null,
            "justify_items": null,
            "left": null,
            "margin": null,
            "max_height": null,
            "max_width": null,
            "min_height": null,
            "min_width": null,
            "object_fit": null,
            "object_position": null,
            "order": null,
            "overflow": null,
            "overflow_x": null,
            "overflow_y": null,
            "padding": null,
            "right": null,
            "top": null,
            "visibility": null,
            "width": null
          }
        },
        "eb2e7325d481482d84417b00121ef9ff": {
          "model_module": "@jupyter-widgets/controls",
          "model_name": "DescriptionStyleModel",
          "model_module_version": "1.5.0",
          "state": {
            "_model_module": "@jupyter-widgets/controls",
            "_model_module_version": "1.5.0",
            "_model_name": "DescriptionStyleModel",
            "_view_count": null,
            "_view_module": "@jupyter-widgets/base",
            "_view_module_version": "1.2.0",
            "_view_name": "StyleView",
            "description_width": ""
          }
        },
        "8fd51526ef0d479c975eb84fad10110b": {
          "model_module": "@jupyter-widgets/base",
          "model_name": "LayoutModel",
          "model_module_version": "1.2.0",
          "state": {
            "_model_module": "@jupyter-widgets/base",
            "_model_module_version": "1.2.0",
            "_model_name": "LayoutModel",
            "_view_count": null,
            "_view_module": "@jupyter-widgets/base",
            "_view_module_version": "1.2.0",
            "_view_name": "LayoutView",
            "align_content": null,
            "align_items": null,
            "align_self": null,
            "border": null,
            "bottom": null,
            "display": null,
            "flex": null,
            "flex_flow": null,
            "grid_area": null,
            "grid_auto_columns": null,
            "grid_auto_flow": null,
            "grid_auto_rows": null,
            "grid_column": null,
            "grid_gap": null,
            "grid_row": null,
            "grid_template_areas": null,
            "grid_template_columns": null,
            "grid_template_rows": null,
            "height": null,
            "justify_content": null,
            "justify_items": null,
            "left": null,
            "margin": null,
            "max_height": null,
            "max_width": null,
            "min_height": null,
            "min_width": null,
            "object_fit": null,
            "object_position": null,
            "order": null,
            "overflow": null,
            "overflow_x": null,
            "overflow_y": null,
            "padding": null,
            "right": null,
            "top": null,
            "visibility": null,
            "width": null
          }
        },
        "6dd554b44b934bfa9c35b20aa2af34a1": {
          "model_module": "@jupyter-widgets/controls",
          "model_name": "ProgressStyleModel",
          "model_module_version": "1.5.0",
          "state": {
            "_model_module": "@jupyter-widgets/controls",
            "_model_module_version": "1.5.0",
            "_model_name": "ProgressStyleModel",
            "_view_count": null,
            "_view_module": "@jupyter-widgets/base",
            "_view_module_version": "1.2.0",
            "_view_name": "StyleView",
            "bar_color": null,
            "description_width": ""
          }
        },
        "10c999c5930b49ebb9fc0abe43e38a93": {
          "model_module": "@jupyter-widgets/base",
          "model_name": "LayoutModel",
          "model_module_version": "1.2.0",
          "state": {
            "_model_module": "@jupyter-widgets/base",
            "_model_module_version": "1.2.0",
            "_model_name": "LayoutModel",
            "_view_count": null,
            "_view_module": "@jupyter-widgets/base",
            "_view_module_version": "1.2.0",
            "_view_name": "LayoutView",
            "align_content": null,
            "align_items": null,
            "align_self": null,
            "border": null,
            "bottom": null,
            "display": null,
            "flex": null,
            "flex_flow": null,
            "grid_area": null,
            "grid_auto_columns": null,
            "grid_auto_flow": null,
            "grid_auto_rows": null,
            "grid_column": null,
            "grid_gap": null,
            "grid_row": null,
            "grid_template_areas": null,
            "grid_template_columns": null,
            "grid_template_rows": null,
            "height": null,
            "justify_content": null,
            "justify_items": null,
            "left": null,
            "margin": null,
            "max_height": null,
            "max_width": null,
            "min_height": null,
            "min_width": null,
            "object_fit": null,
            "object_position": null,
            "order": null,
            "overflow": null,
            "overflow_x": null,
            "overflow_y": null,
            "padding": null,
            "right": null,
            "top": null,
            "visibility": null,
            "width": null
          }
        },
        "fdf953e50a20496fa74ca523a6c8a81a": {
          "model_module": "@jupyter-widgets/controls",
          "model_name": "DescriptionStyleModel",
          "model_module_version": "1.5.0",
          "state": {
            "_model_module": "@jupyter-widgets/controls",
            "_model_module_version": "1.5.0",
            "_model_name": "DescriptionStyleModel",
            "_view_count": null,
            "_view_module": "@jupyter-widgets/base",
            "_view_module_version": "1.2.0",
            "_view_name": "StyleView",
            "description_width": ""
          }
        }
      }
    }
  },
  "nbformat": 4,
  "nbformat_minor": 0
}
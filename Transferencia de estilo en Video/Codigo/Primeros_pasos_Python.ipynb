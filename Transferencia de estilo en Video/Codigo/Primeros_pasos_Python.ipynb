{
  "nbformat": 4,
  "nbformat_minor": 0,
  "metadata": {
    "colab": {
      "provenance": []
    },
    "kernelspec": {
      "name": "python3",
      "display_name": "Python 3"
    },
    "language_info": {
      "name": "python"
    }
  },
  "cells": [
    {
      "cell_type": "markdown",
      "source": [
        "# Primeros pasos en Python"
      ],
      "metadata": {
        "id": "n-Uqr07ugl-W"
      }
    },
    {
      "cell_type": "code",
      "execution_count": null,
      "metadata": {
        "colab": {
          "base_uri": "https://localhost:8080/"
        },
        "id": "44cQH4WOM32v",
        "outputId": "658c4cf2-21ce-4366-f32d-e8e2a743addc"
      },
      "outputs": [
        {
          "output_type": "stream",
          "name": "stdout",
          "text": [
            "¡Hola, mundo!\n"
          ]
        }
      ],
      "source": [
        "# Introducción a Python:\n",
        "# Python es un lenguaje de programación de alto nivel utilizado para una variedad de propósitos.\n",
        "# Es conocido por su sintaxis limpia y legible.\n",
        "print(\"¡Hola, mundo!\")"
      ]
    },
    {
      "cell_type": "code",
      "source": [
        "# Configuración de Google Colab:\n",
        "# Google Colab es una plataforma en la nube que permite escribir y ejecutar código Python en un entorno colaborativo.\n",
        "# No requiere configuración previa y proporciona acceso gratuito a recursos computacionales.\n",
        "# Simplemente haz clic en \"Nuevo cuaderno\" para crear un nuevo cuaderno en Colab."
      ],
      "metadata": {
        "id": "4xkIwDH1NIRI"
      },
      "execution_count": null,
      "outputs": []
    },
    {
      "cell_type": "code",
      "source": [
        "# Sintaxis básica de Python:\n",
        "\n",
        "# Variables y tipos de datos\n",
        "x = 10\n",
        "y = 3.14\n",
        "nombre = \"Juan\"\n",
        "lista = [1, 2, 3]\n",
        "diccionario = {\"clave\": \"valor\"}\n",
        "\n",
        "# Operadores\n",
        "suma = x + y\n",
        "resta = x - y\n",
        "multiplicacion = x * y\n",
        "division = x / y\n",
        "\n",
        "print(\"suma: \", suma, \"resta: \", resta, \"Multiplicación: \", multiplicacion, \"División: \", division)"
      ],
      "metadata": {
        "colab": {
          "base_uri": "https://localhost:8080/"
        },
        "id": "kOrBZ0YCNOk4",
        "outputId": "390828a8-7900-4189-9290-d5be49011ead"
      },
      "execution_count": null,
      "outputs": [
        {
          "output_type": "stream",
          "name": "stdout",
          "text": [
            "suma:  13.14 resta:  6.859999999999999 Multiplicación:  31.400000000000002 División:  3.184713375796178\n"
          ]
        }
      ]
    },
    {
      "cell_type": "code",
      "source": [
        "# Estructuras de control\n",
        "\n",
        "x = 4\n",
        "# Condicionales\n",
        "if x > 5:\n",
        "    print(\"x es mayor que 5\")\n",
        "elif x == 5:\n",
        "    print(\"x es igual a 5\")\n",
        "else:\n",
        "    print(\"x es menor que 5\")\n",
        "\n",
        "# Bucles\n",
        "\n",
        "for i in range(5):\n",
        "    print(i)\n",
        "\n",
        "while x > 0:\n",
        "    print(x)\n",
        "    x -= 1"
      ],
      "metadata": {
        "colab": {
          "base_uri": "https://localhost:8080/"
        },
        "id": "kikzjRMXNetk",
        "outputId": "d36fcc0f-2660-409c-e4b6-a3696698bc96"
      },
      "execution_count": null,
      "outputs": [
        {
          "output_type": "stream",
          "name": "stdout",
          "text": [
            "x es menor que 5\n",
            "0\n",
            "1\n",
            "2\n",
            "3\n",
            "4\n",
            "4\n",
            "3\n",
            "2\n",
            "1\n"
          ]
        }
      ]
    },
    {
      "cell_type": "code",
      "source": [
        "# Definición de una función\n",
        "def suma(a, b):\n",
        "    return a + b\n",
        "\n",
        "# Llamada a la función\n",
        "resultado = suma(3, 5)\n",
        "print(resultado)\n"
      ],
      "metadata": {
        "colab": {
          "base_uri": "https://localhost:8080/"
        },
        "id": "8ttangpDN9DN",
        "outputId": "8bfcd17f-0574-42ce-acf6-3e786f8b5b22"
      },
      "execution_count": null,
      "outputs": [
        {
          "output_type": "stream",
          "name": "stdout",
          "text": [
            "8\n"
          ]
        }
      ]
    },
    {
      "cell_type": "code",
      "source": [
        "# Listas y bucles\n",
        "numeros = [1, 2, 3, 4, 5]\n",
        "\n",
        "# Iteración sobre una lista\n",
        "for numero in numeros:\n",
        "    print(numero)\n",
        "\n",
        "# Operaciones en una lista\n",
        "suma_numeros = sum(numeros)\n",
        "print(\"La suma de los números es:\", suma_numeros)"
      ],
      "metadata": {
        "colab": {
          "base_uri": "https://localhost:8080/"
        },
        "id": "Ci8_q_lJOE_-",
        "outputId": "d8c1fe3c-9b29-40ac-82c7-1a54eb2c91ac"
      },
      "execution_count": null,
      "outputs": [
        {
          "output_type": "stream",
          "name": "stdout",
          "text": [
            "1\n",
            "2\n",
            "3\n",
            "4\n",
            "5\n",
            "La suma de los números es: 15\n"
          ]
        }
      ]
    },
    {
      "cell_type": "code",
      "source": [
        "# Diccionarios\n",
        "persona = {\"nombre\": \"Juan\", \"edad\": 30, \"ciudad\": \"México\"}\n",
        "\n",
        "# Acceso a elementos de un diccionario\n",
        "print(persona[\"nombre\"])\n",
        "print(persona[\"edad\"])\n",
        "print(persona[\"ciudad\"])"
      ],
      "metadata": {
        "colab": {
          "base_uri": "https://localhost:8080/"
        },
        "id": "7qPbOVlBOa68",
        "outputId": "47a3b15d-29a2-409b-843d-971849e1344d"
      },
      "execution_count": null,
      "outputs": [
        {
          "output_type": "stream",
          "name": "stdout",
          "text": [
            "Juan\n",
            "30\n",
            "México\n"
          ]
        }
      ]
    },
    {
      "cell_type": "code",
      "source": [
        "# Ejemplo: Calcular el promedio de una lista de números\n",
        "numeros = [10, 20, 30, 40, 50]\n",
        "promedio = sum(numeros) / len(numeros)\n",
        "print(\"El promedio de la lista es:\", promedio)\n",
        "\n",
        "# Ejemplo: Contar la frecuencia de palabras en un texto\n",
        "texto = \"Este es un ejemplo de texto. Este texto tiene palabras repetidas.\"\n",
        "palabras = texto.split()\n",
        "frecuencia = {}\n",
        "for palabra in palabras:\n",
        "    if palabra in frecuencia:\n",
        "        frecuencia[palabra] += 1\n",
        "    else:\n",
        "        frecuencia[palabra] = 1\n",
        "print(\"Frecuencia de palabras:\", frecuencia)"
      ],
      "metadata": {
        "colab": {
          "base_uri": "https://localhost:8080/"
        },
        "id": "0XRZKaU1Oj5A",
        "outputId": "98e6c297-b07f-46bd-b5ce-11c9f98a3a3d"
      },
      "execution_count": null,
      "outputs": [
        {
          "output_type": "stream",
          "name": "stdout",
          "text": [
            "El promedio de la lista es: 30.0\n",
            "Frecuencia de palabras: {'Este': 2, 'es': 1, 'un': 1, 'ejemplo': 1, 'de': 1, 'texto.': 1, 'texto': 1, 'tiene': 1, 'palabras': 1, 'repetidas.': 1}\n"
          ]
        }
      ]
    },
    {
      "cell_type": "code",
      "source": [
        "#Librerías populares:\n",
        "\n",
        "# NumPy y Pandas son dos librerías populares de Python para computación numérica y análisis de datos, respectivamente.\n",
        "# Puedes instalarlas en Colab utilizando pip si no están preinstaladas.\n",
        "\n",
        "# Instalación de NumPy\n",
        "!pip install numpy\n",
        "\n",
        "# Instalación de Pandas\n",
        "!pip install pandas"
      ],
      "metadata": {
        "colab": {
          "base_uri": "https://localhost:8080/"
        },
        "id": "Kpcif5PXOmBF",
        "outputId": "e0480e0e-5308-4548-d581-65c28c0f3810"
      },
      "execution_count": null,
      "outputs": [
        {
          "output_type": "stream",
          "name": "stdout",
          "text": [
            "Requirement already satisfied: numpy in /usr/local/lib/python3.10/dist-packages (1.25.2)\n",
            "Requirement already satisfied: pandas in /usr/local/lib/python3.10/dist-packages (2.0.3)\n",
            "Requirement already satisfied: python-dateutil>=2.8.2 in /usr/local/lib/python3.10/dist-packages (from pandas) (2.8.2)\n",
            "Requirement already satisfied: pytz>=2020.1 in /usr/local/lib/python3.10/dist-packages (from pandas) (2023.4)\n",
            "Requirement already satisfied: tzdata>=2022.1 in /usr/local/lib/python3.10/dist-packages (from pandas) (2024.1)\n",
            "Requirement already satisfied: numpy>=1.21.0 in /usr/local/lib/python3.10/dist-packages (from pandas) (1.25.2)\n",
            "Requirement already satisfied: six>=1.5 in /usr/local/lib/python3.10/dist-packages (from python-dateutil>=2.8.2->pandas) (1.16.0)\n"
          ]
        }
      ]
    },
    {
      "cell_type": "code",
      "source": [
        "# Recursos adicionales\n",
        "# - Documentación oficial de Python: https://docs.python.org/es/3/\n",
        "# - Tutoriales en línea: Plataformas como Coursera, Udemy, y YouTube ofrecen cursos gratuitos y de pago sobre Python.\n",
        "# - Libros recomendados: \"Python Crash Course\" de Eric Matthes, \"Automate the Boring Stuff with Python\" de Al Sweigart, entre otros."
      ],
      "metadata": {
        "id": "99BqDcAqOtqt"
      },
      "execution_count": 1,
      "outputs": []
    }
  ]
}